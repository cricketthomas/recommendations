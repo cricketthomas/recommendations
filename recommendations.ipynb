{
 "cells": [
  {
   "cell_type": "code",
   "execution_count": 6,
   "metadata": {},
   "outputs": [
    {
     "name": "stdout",
     "output_type": "stream",
     "text": [
      "weighted rating of movies: 5.618207215133889\n",
      "minimum number of votes required to be in the chart: 10.0\n"
     ]
    }
   ],
   "source": [
    "import pandas as pd \n",
    "import numpy as np\n",
    "import warnings\n",
    "warnings.filterwarnings('ignore')\n",
    "\n",
    "metadata = pd.read_csv('./the-movies-dataset/movies_metadata.csv', low_memory=False)\n",
    "metadata.head(5)\n",
    "#weighted rating of movies\n",
    "C = metadata['vote_average'].mean()\n",
    "print(\"weighted rating of movies: \" + str(C))\n",
    "# Calculate the minimum number of votes required to be in the chart, m\n",
    "m = metadata['vote_count'].quantile(0.50)\n",
    "print(\"minimum number of votes required to be in the chart: \" + str(m))\n",
    "#https://www.datacamp.com/community/tutorials/recommender-systems-python\n",
    "# Filter out all qualified movies into a new DataFrame\n",
    "q_movies = metadata.copy().loc[metadata['vote_count'] >= m]\n",
    "q_movies.shape\n",
    "\n",
    "# Function that computes the weighted rating of each movie\n",
    "def weighted_rating(x, m=m, C=C):\n",
    "    v = x['vote_count']\n",
    "    R = x['vote_average']\n",
    "    # Calculation based on the IMDB formula \n",
    "    return (v/(v+m) * R) + (m/(m+v) * C) # thing to modify for courses?\n",
    "#adding new column with score\n",
    "q_movies['score'] = q_movies.apply(weighted_rating, axis=1)\n",
    "#sorting movvies based on ^ and printing\n",
    "q_movies = q_movies.sort_values('score', ascending=False)\n",
    "q_movies[['title', 'vote_count', 'vote_average', 'score']].head(15)\n",
    "#this is a simple algorithm which recommends the top items based on percentile. In this case, line 12 "
   ]
  },
  {
   "cell_type": "code",
   "execution_count": 35,
   "metadata": {},
   "outputs": [
    {
     "name": "stdout",
     "output_type": "stream",
     "text": [
      "retrieving https://api.umd.io/v0/courses/list\n",
      "['CMSC122,', 'CMSC131,', 'CMSC132,', 'CMSC132A,', 'CMSC216,', 'CMSC216H,', 'CMSC250,', 'CMSC250H,', 'CMSC298A,', 'CMSC320,', 'CMSC330,', 'CMSC351,', 'CMSC389N,', 'CMSC390,', 'CMSC396H,', 'CMSC411,', 'CMSC412,', 'CMSC414,', 'CMSC417,', 'CMSC420,', 'CMSC421,', 'CMSC422,', 'CMSC423,', 'CMSC424,', 'CMSC425,', 'CMSC426,', 'CMSC433,', 'CMSC434,', 'CMSC435,', 'CMSC436,', 'CMSC451,', 'CMSC452,', 'CMSC456,', 'CMSC457,', 'CMSC460,', 'CMSC466,', 'CMSC470,', 'CMSC474,', 'CMSC475,', 'CMSC498A,', 'CMSC498L,', 'CMSC498O,', 'CMSC498U,', 'CMSC499A,', 'CMSC631,', 'CMSC642,', 'CMSC644,', 'CMSC661,', 'CMSC664,', 'CMSC712,', 'CMSC722,', 'CMSC726,', 'CMSC733,', 'CMSC740,', 'CMSC764,', 'CMSC773,', 'CMSC798,', 'CMSC798F,', 'CMSC799,', 'CMSC818N,', 'CMSC818W,', 'CMSC818X,', 'CMSC818Y,', 'CMSC828B,', 'CMSC828F,', 'CMSC828U,', 'CMSC828X,', 'CMSC838J,', 'CMSC858M,', 'CMSC898,', 'CMSC899,']\n"
     ]
    },
    {
     "data": {
      "text/plain": [
       "'\\nfor x in range(1):\\n    n = random.randint(1,4596)\\n    n = int(n)\\n\\ncourse_id = info[n][\\'course_id\\']\\nname = info[n][\\'name\\']\\ncotd = \\'The course of \\'+ date + \\' is: \\'\\ntweets = cotd+course_id+ \" \" + name\\nt = tweets.replace(\"(\",\"\").replace(\")\",\"\").replace(\"\\'\",\"\").replace(\",\",\"\")\\n\\n\\n\\ndef main():\\n    print(\\'tweeted\\')\\nwhile True:\\n    tweet()\\ntime.sleep(1000)  # 1 sec\\n\\nif __name__ == \"__main__\":\\n    main()\\n'"
      ]
     },
     "execution_count": 35,
     "metadata": {},
     "output_type": "execute_result"
    }
   ],
   "source": [
    "#Collecting data and formatting it. \n",
    "#metadata.head(5)\n",
    "import urllib.request, urllib.parse, urllib.error\n",
    "import json\n",
    "import time\n",
    "import random\n",
    "import requests\n",
    "import sys, time\n",
    "\n",
    "\n",
    "\n",
    "## dd/mm/yyyy format\n",
    "date = time.strftime(\"%m/%d/%Y\")\n",
    "courserequested = input(str(\"Enter the course code: \"))\n",
    "#getAllCourses = 'https://api.umd.io/v0/'+ courserequested+'/list'\n",
    "#print(getAllCourses)\n",
    "\n",
    "\n",
    "#url = 'https://api.umd.io/v0/courses/ENES100,ENES140'\n",
    "url = 'https://api.umd.io/v0/courses/list'\n",
    "uh = urllib.request.urlopen(url)\n",
    "print('retrieving', url)\n",
    "data = uh.read().decode()\n",
    "info = json.loads(data)\n",
    "#print(json.dumps(info, indent=4, separators=(\". \", \" = \")))\n",
    "courses_array = []\n",
    "for courselist in info:\n",
    "    if courselist['course_id'].startswith(courserequested):\n",
    "        courses_array.append(courselist['course_id'] + \",\")\n",
    "        #print(courselist['course_id'])\n",
    "print(courses_array)\n",
    "\n",
    "\n",
    "\n",
    "\"\"\"\n",
    "for x in range(1):\n",
    "    n = random.randint(1,4596)\n",
    "    n = int(n)\n",
    "\n",
    "course_id = info[n]['course_id']\n",
    "name = info[n]['name']\n",
    "cotd = 'The course of '+ date + ' is: '\n",
    "tweets = cotd+course_id+ \" \" + name\n",
    "t = tweets.replace(\"(\",\"\").replace(\")\",\"\").replace(\"'\",\"\").replace(\",\",\"\")\n",
    "\n",
    "\n",
    "\n",
    "def main():\n",
    "    print('tweeted')\n",
    "while True:\n",
    "    tweet()\n",
    "time.sleep(1000)  # 1 sec\n",
    "\n",
    "if __name__ == \"__main__\":\n",
    "    main()\n",
    "\"\"\"\n",
    "\n"
   ]
  },
  {
   "cell_type": "code",
   "execution_count": null,
   "metadata": {},
   "outputs": [],
   "source": [
    "'''\n",
    "\n",
    "\n",
    "\n",
    "retrieving https://api.umd.io/v0/courses/list\n",
    "[\n",
    "    {\n",
    "        \"course_id\" = \"AASP100\". \n",
    "        \"name\" = \"Introduction to African American Studies\". \n",
    "        \"department\" = \"African American Studies\"\n",
    "    }. \n",
    "    {\n",
    "        \"course_id\" = \"AASP100H\". \n",
    "        \"name\" = \"Introduction to African American Studies\". \n",
    "        \"department\" = \"African American Studies\"\n",
    "    }. \n",
    "    {\n",
    "        \"course_id\" = \"AASP101\". \n",
    "        \"name\" = \"Public Policy and the Black Community\". \n",
    "        \"department\" = \"African American Studies\"\n",
    "    }. \n",
    "]\n",
    "\n",
    "\n",
    "\n",
    "'''"
   ]
  }
 ],
 "metadata": {
  "kernelspec": {
   "display_name": "Python 3",
   "language": "python",
   "name": "python3"
  },
  "language_info": {
   "codemirror_mode": {
    "name": "ipython",
    "version": 3
   },
   "file_extension": ".py",
   "mimetype": "text/x-python",
   "name": "python",
   "nbconvert_exporter": "python",
   "pygments_lexer": "ipython3",
   "version": "3.6.3"
  }
 },
 "nbformat": 4,
 "nbformat_minor": 2
}
