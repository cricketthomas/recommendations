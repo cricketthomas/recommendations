{
 "cells": [
  {
   "cell_type": "code",
   "execution_count": 2,
   "metadata": {
    "collapsed": true
   },
   "outputs": [],
   "source": [
    "import urllib.request, urllib.parse, urllib.error\n",
    "import json\n",
    "import time\n",
    "import random\n",
    "import requests\n",
    "import sys, time\n",
    "import pandas as pd \n",
    "from pandas.io.json import json_normalize\n",
    "import pandas as pd \n",
    "import numpy as np\n",
    "import warnings\n",
    "warnings.filterwarnings('ignore')"
   ]
  },
  {
   "cell_type": "code",
   "execution_count": 3,
   "metadata": {
    "collapsed": true
   },
   "outputs": [],
   "source": [
    "#Collecting data and formatting it. \n",
    "def getCourseURL():\n",
    "    courserequested = input(str(\"Enter the course code: \")).upper()\n",
    "    url_return = 'https://api.umd.io/v0/courses/'\n",
    "    url = 'https://api.umd.io/v0/courses/list'\n",
    "    uh = urllib.request.urlopen(url)\n",
    "    print('retrieving', url)\n",
    "    data = uh.read().decode()\n",
    "    info = json.loads(data)\n",
    "    #print(json.dumps(info, indent=4, separators=(\". \", \" = \")))\n",
    "    courses_array = []\n",
    "    for courselist in info:\n",
    "        if courselist['course_id'].startswith(courserequested):\n",
    "            courses_array.append(courselist['course_id'])\n",
    "            #print(courselist['course_id'])\n",
    "            #print(courses_array)\n",
    "    myString = \",\".join(courses_array)\n",
    "    url_return=url_return+myString\n",
    "    print(url_return)  \n",
    "    return url_return\n",
    "\n",
    "#print(getCourseURL(courserequested))\n",
    "\n",
    "def getJSON(url):\n",
    "    uh = urllib.request.urlopen(url)\n",
    "    print('retrieving', url)\n",
    "    data = uh.read().decode()\n",
    "    info = json.loads(data)\n",
    "    #making the file so you can read it in your script. \n",
    "    with open(\"coursedata.json\", \"w\") as writeJSON:\n",
    "        json.dump(json.dumps({\"data\": info}, indent=3), writeJSON, ensure_ascii=False)\n",
    "    return (json.dumps({\"data\": info}, indent=4))\n",
    "#getJSON(getCourseURL(courserequested))\n",
    "\n"
   ]
  },
  {
   "cell_type": "code",
   "execution_count": 5,
   "metadata": {},
   "outputs": [
    {
     "name": "stdout",
     "output_type": "stream",
     "text": [
      "Enter the course code: enes\n",
      "retrieving https://api.umd.io/v0/courses/list\n",
      "https://api.umd.io/v0/courses/ENES100,ENES102,ENES108,ENES114,ENES116,ENES140,ENES190H,ENES210,ENES214,ENES216,ENES220,ENES221,ENES232,ENES305,ENES317,ENES390H,ENES397,ENES440,ENES458N,ENES460,ENES461,ENES462,ENES466,ENES472,ENES481,ENES489A,ENES489P,ENES489Q,ENES490H,ENES491,ENES498E,ENES498R,ENES601,ENES603,ENES604,ENES662,ENES663,ENES666,ENES667,ENES672\n"
     ]
    },
    {
     "data": {
      "text/html": [
       "<div>\n",
       "<style>\n",
       "    .dataframe thead tr:only-child th {\n",
       "        text-align: right;\n",
       "    }\n",
       "\n",
       "    .dataframe thead th {\n",
       "        text-align: left;\n",
       "    }\n",
       "\n",
       "    .dataframe tbody tr th {\n",
       "        vertical-align: top;\n",
       "    }\n",
       "</style>\n",
       "<table border=\"1\" class=\"dataframe\">\n",
       "  <thead>\n",
       "    <tr style=\"text-align: right;\">\n",
       "      <th></th>\n",
       "      <th>core</th>\n",
       "      <th>course_id</th>\n",
       "      <th>credits</th>\n",
       "      <th>department</th>\n",
       "      <th>dept_id</th>\n",
       "      <th>description</th>\n",
       "      <th>gen_ed</th>\n",
       "      <th>grading_method</th>\n",
       "      <th>name</th>\n",
       "      <th>relationships</th>\n",
       "      <th>sections</th>\n",
       "      <th>semester</th>\n",
       "      <th>popularity</th>\n",
       "      <th>popularity_avg</th>\n",
       "    </tr>\n",
       "  </thead>\n",
       "  <tbody>\n",
       "    <tr>\n",
       "      <th>0</th>\n",
       "      <td>[PS]</td>\n",
       "      <td>ENES100</td>\n",
       "      <td>3</td>\n",
       "      <td>Engineering Science</td>\n",
       "      <td>ENES</td>\n",
       "      <td>Students work as teams to design and build a p...</td>\n",
       "      <td>[DSSP]</td>\n",
       "      <td>[Regular, Pass-Fail, Audit]</td>\n",
       "      <td>Introduction to Engineering Design</td>\n",
       "      <td>{'prereqs': None, 'coreqs': 'MATH140.', 'restr...</td>\n",
       "      <td>[ENES100-0101, ENES100-0102, ENES100-0201, ENE...</td>\n",
       "      <td>201901</td>\n",
       "      <td>11</td>\n",
       "      <td>4.835165</td>\n",
       "    </tr>\n",
       "    <tr>\n",
       "      <th>1</th>\n",
       "      <td>[]</td>\n",
       "      <td>ENES102</td>\n",
       "      <td>3</td>\n",
       "      <td>Engineering Science</td>\n",
       "      <td>ENES</td>\n",
       "      <td>The equilibrium of stationary bodies under the...</td>\n",
       "      <td>[]</td>\n",
       "      <td>[Regular, Pass-Fail, Audit]</td>\n",
       "      <td>Mechanics I</td>\n",
       "      <td>{'prereqs': None, 'coreqs': 'MATH140.', 'restr...</td>\n",
       "      <td>[ENES102-0101, ENES102-0201, ENES102-0601, ENE...</td>\n",
       "      <td>201901</td>\n",
       "      <td>7</td>\n",
       "      <td>3.076923</td>\n",
       "    </tr>\n",
       "    <tr>\n",
       "      <th>2</th>\n",
       "      <td>[]</td>\n",
       "      <td>ENES108</td>\n",
       "      <td>1</td>\n",
       "      <td>Engineering Science</td>\n",
       "      <td>ENES</td>\n",
       "      <td>None</td>\n",
       "      <td>[]</td>\n",
       "      <td>[Regular, Pass-Fail, Audit]</td>\n",
       "      <td>Achieving College Success: First Year Transition</td>\n",
       "      <td>{'prereqs': None, 'coreqs': None, 'restriction...</td>\n",
       "      <td>[ENES108-0101, ENES108-0102]</td>\n",
       "      <td>201901</td>\n",
       "      <td>2</td>\n",
       "      <td>0.879121</td>\n",
       "    </tr>\n",
       "  </tbody>\n",
       "</table>\n",
       "</div>"
      ],
      "text/plain": [
       "   core course_id  credits           department dept_id  \\\n",
       "0  [PS]   ENES100        3  Engineering Science    ENES   \n",
       "1    []   ENES102        3  Engineering Science    ENES   \n",
       "2    []   ENES108        1  Engineering Science    ENES   \n",
       "\n",
       "                                         description  gen_ed  \\\n",
       "0  Students work as teams to design and build a p...  [DSSP]   \n",
       "1  The equilibrium of stationary bodies under the...      []   \n",
       "2                                               None      []   \n",
       "\n",
       "                grading_method  \\\n",
       "0  [Regular, Pass-Fail, Audit]   \n",
       "1  [Regular, Pass-Fail, Audit]   \n",
       "2  [Regular, Pass-Fail, Audit]   \n",
       "\n",
       "                                               name  \\\n",
       "0                Introduction to Engineering Design   \n",
       "1                                       Mechanics I   \n",
       "2  Achieving College Success: First Year Transition   \n",
       "\n",
       "                                       relationships  \\\n",
       "0  {'prereqs': None, 'coreqs': 'MATH140.', 'restr...   \n",
       "1  {'prereqs': None, 'coreqs': 'MATH140.', 'restr...   \n",
       "2  {'prereqs': None, 'coreqs': None, 'restriction...   \n",
       "\n",
       "                                            sections  semester  popularity  \\\n",
       "0  [ENES100-0101, ENES100-0102, ENES100-0201, ENE...    201901          11   \n",
       "1  [ENES102-0101, ENES102-0201, ENES102-0601, ENE...    201901           7   \n",
       "2                       [ENES108-0101, ENES108-0102]    201901           2   \n",
       "\n",
       "   popularity_avg  \n",
       "0        4.835165  \n",
       "1        3.076923  \n",
       "2        0.879121  "
      ]
     },
     "execution_count": 5,
     "metadata": {},
     "output_type": "execute_result"
    }
   ],
   "source": [
    "# UMD.io Data Getting user input for course: \n",
    "df = pd.read_json(getCourseURL(), orient='columns')\n",
    "#df[['course_id', 'description', 'name']].head(3)  len(df['sections'][1])\n",
    "df['popularity'] = [len(c) for c in df['sections']] #this assigns a score based on the amount of sections, assumming past popularity merits more sections?!\n",
    "df['popularity_avg'] = df['popularity']/df['popularity'].mean()\n",
    "#a = df['grading_method'][1]\n",
    "#print(len(a))\n",
    "df.head(3)"
   ]
  },
  {
   "cell_type": "code",
   "execution_count": 6,
   "metadata": {},
   "outputs": [
    {
     "name": "stdout",
     "output_type": "stream",
     "text": [
      "weighted rating of popularity (sectionCount): 2.275\n",
      "minimum number of rank required to be in the chart: 7.0\n"
     ]
    },
    {
     "data": {
      "text/html": [
       "<div>\n",
       "<style>\n",
       "    .dataframe thead tr:only-child th {\n",
       "        text-align: right;\n",
       "    }\n",
       "\n",
       "    .dataframe thead th {\n",
       "        text-align: left;\n",
       "    }\n",
       "\n",
       "    .dataframe tbody tr th {\n",
       "        vertical-align: top;\n",
       "    }\n",
       "</style>\n",
       "<table border=\"1\" class=\"dataframe\">\n",
       "  <thead>\n",
       "    <tr style=\"text-align: right;\">\n",
       "      <th></th>\n",
       "      <th>course_id</th>\n",
       "      <th>description</th>\n",
       "      <th>name</th>\n",
       "      <th>popularity</th>\n",
       "      <th>popularity_avg</th>\n",
       "    </tr>\n",
       "  </thead>\n",
       "  <tbody>\n",
       "    <tr>\n",
       "      <th>0</th>\n",
       "      <td>ENES100</td>\n",
       "      <td>Students work as teams to design and build a p...</td>\n",
       "      <td>Introduction to Engineering Design</td>\n",
       "      <td>11</td>\n",
       "      <td>4.835165</td>\n",
       "    </tr>\n",
       "    <tr>\n",
       "      <th>5</th>\n",
       "      <td>ENES140</td>\n",
       "      <td>Students explore dynamic company startup topic...</td>\n",
       "      <td>Discovering New Ventures</td>\n",
       "      <td>10</td>\n",
       "      <td>4.395604</td>\n",
       "    </tr>\n",
       "    <tr>\n",
       "      <th>7</th>\n",
       "      <td>ENES210</td>\n",
       "      <td>This multi-disciplinary course helps students ...</td>\n",
       "      <td>Entrepreneurial Opportunity Analysis and Decis...</td>\n",
       "      <td>8</td>\n",
       "      <td>3.516484</td>\n",
       "    </tr>\n",
       "    <tr>\n",
       "      <th>1</th>\n",
       "      <td>ENES102</td>\n",
       "      <td>The equilibrium of stationary bodies under the...</td>\n",
       "      <td>Mechanics I</td>\n",
       "      <td>7</td>\n",
       "      <td>3.076923</td>\n",
       "    </tr>\n",
       "    <tr>\n",
       "      <th>12</th>\n",
       "      <td>ENES232</td>\n",
       "      <td>Introduction to thermodynamics. Thermodynamic ...</td>\n",
       "      <td>Thermodynamics</td>\n",
       "      <td>7</td>\n",
       "      <td>3.076923</td>\n",
       "    </tr>\n",
       "  </tbody>\n",
       "</table>\n",
       "</div>"
      ],
      "text/plain": [
       "   course_id                                        description  \\\n",
       "0    ENES100  Students work as teams to design and build a p...   \n",
       "5    ENES140  Students explore dynamic company startup topic...   \n",
       "7    ENES210  This multi-disciplinary course helps students ...   \n",
       "1    ENES102  The equilibrium of stationary bodies under the...   \n",
       "12   ENES232  Introduction to thermodynamics. Thermodynamic ...   \n",
       "\n",
       "                                                 name  popularity  \\\n",
       "0                  Introduction to Engineering Design          11   \n",
       "5                            Discovering New Ventures          10   \n",
       "7   Entrepreneurial Opportunity Analysis and Decis...           8   \n",
       "1                                         Mechanics I           7   \n",
       "12                                     Thermodynamics           7   \n",
       "\n",
       "    popularity_avg  \n",
       "0         4.835165  \n",
       "5         4.395604  \n",
       "7         3.516484  \n",
       "1         3.076923  \n",
       "12        3.076923  "
      ]
     },
     "execution_count": 6,
     "metadata": {},
     "output_type": "execute_result"
    }
   ],
   "source": [
    "#Getting final version of what data i need and calulating the mean.  \n",
    "#df[['course_id', 'description', 'name', 'rank']].head(15).to_csv('test.csv', sep='\\t', encoding='utf-8')\n",
    "df[['course_id', 'description', 'name', 'popularity', 'popularity_avg']].head(15)\n",
    "#weighted rating of courses\n",
    "C = df['popularity'].mean()\n",
    "print(\"weighted rating of popularity (sectionCount): \" + str(C)) # section count is popularity\n",
    "# Calculate the minimum number of votes required to be in the chart, m\n",
    "m = df['popularity'].quantile(0.92)\n",
    "print(\"minimum number of rank required to be in the chart: \" + str(m))\n",
    "# Filter out all qualified classes into a new DataFrame\n",
    "q_classes = df.copy().loc[df['popularity'] >= m]\n",
    "q_classes.shape\n",
    "#mimicing their catagorical classifier\n",
    "def weighted_rating(x, m=m, C=C):\n",
    "    v = x['popularity']\n",
    "    R = x['popularity_avg']\n",
    "    # Calculation based on the IMDB formula \n",
    "    return (v/(v+m) * R) + (m/(m+v) * C) # thing to modify for courses?\n",
    "#adding new column with score\n",
    "q_classes['score'] = q_classes.apply(weighted_rating, axis=1)\n",
    "#sorting movvies based on ^ and printing\n",
    "q_classes = q_classes.sort_values('score', ascending=False)\n",
    "q_classes[['course_id', 'description', 'name', 'popularity', 'popularity_avg']].head(15)\n"
   ]
  },
  {
   "cell_type": "code",
   "execution_count": 7,
   "metadata": {},
   "outputs": [
    {
     "name": "stdout",
     "output_type": "stream",
     "text": [
      "Enter the course code: enes\n",
      "retrieving https://api.umd.io/v0/courses/list\n",
      "https://api.umd.io/v0/courses/ENES100,ENES102,ENES108,ENES114,ENES116,ENES140,ENES190H,ENES210,ENES214,ENES216,ENES220,ENES221,ENES232,ENES305,ENES317,ENES390H,ENES397,ENES440,ENES458N,ENES460,ENES461,ENES462,ENES466,ENES472,ENES481,ENES489A,ENES489P,ENES489Q,ENES490H,ENES491,ENES498E,ENES498R,ENES601,ENES603,ENES604,ENES662,ENES663,ENES666,ENES667,ENES672\n"
     ]
    },
    {
     "data": {
      "text/plain": [
       "(40, 500)"
      ]
     },
     "execution_count": 7,
     "metadata": {},
     "output_type": "execute_result"
    }
   ],
   "source": [
    "from sklearn.feature_extraction.text import TfidfVectorizer\n",
    "from sklearn.feature_extraction.text import CountVectorizer\n",
    "#Content based Recommendations from Courses: \n",
    "df = pd.read_json(getCourseURL(), orient='columns')\n",
    "df['description'].head()\n",
    "\n",
    "\n",
    "#tfidf = TfidfVectorizer(stop_words) #stop words like in R!\n",
    "tfidf = TfidfVectorizer(stop_words='english',max_features=500) #stop words like in R!\n",
    "df['description'] = df['description'].fillna('') \n",
    "\n",
    "#Construct the required TF-IDF matrix by fitting and transforming the data\n",
    "tfidf_matrix = tfidf.fit_transform(df['description'])\n",
    "\n",
    "#Output the shape of tfidf_matrix\n",
    "tfidf_matrix.shape\n"
   ]
  },
  {
   "cell_type": "code",
   "execution_count": 8,
   "metadata": {
    "collapsed": true
   },
   "outputs": [],
   "source": [
    "from sklearn.metrics.pairwise import linear_kernel\n",
    "# Compute the cosine similarity matrix\n",
    "cosine_sim = linear_kernel(tfidf_matrix, tfidf_matrix)\n",
    "\n",
    "indices = pd.Series(df.index, index=df['course_id']).drop_duplicates()\n",
    "def get_recommendations(courseName, cosine_sim=cosine_sim):\n",
    "    # Get the index of the movie that matches the title\n",
    "    idx = indices[courseName]\n",
    "\n",
    "    # Get the pairwsie similarity scores of all\n",
    "    sim_scores = list(enumerate(cosine_sim[idx]))\n",
    "\n",
    "    # Sort the courses based on the similarity scores\n",
    "    sim_scores = sorted(sim_scores, key=lambda x: x[1], reverse=True)\n",
    "\n",
    "    # Get the scores of the 5 most similar classes\n",
    "    sim_scores = sim_scores[1:6]\n",
    "\n",
    "    # Get the classes indices\n",
    "    courses_indices = [i[0] for i in sim_scores]\n",
    "\n",
    "    # Return the top 6 most similar classes\n",
    "    return df[['course_id', 'description']].iloc[courses_indices]"
   ]
  },
  {
   "cell_type": "code",
   "execution_count": 9,
   "metadata": {},
   "outputs": [
    {
     "name": "stdout",
     "output_type": "stream",
     "text": [
      "Enter course code and course level nummber: enes100\n"
     ]
    },
    {
     "data": {
      "text/html": [
       "<div>\n",
       "<style>\n",
       "    .dataframe thead tr:only-child th {\n",
       "        text-align: right;\n",
       "    }\n",
       "\n",
       "    .dataframe thead th {\n",
       "        text-align: left;\n",
       "    }\n",
       "\n",
       "    .dataframe tbody tr th {\n",
       "        vertical-align: top;\n",
       "    }\n",
       "</style>\n",
       "<table border=\"1\" class=\"dataframe\">\n",
       "  <thead>\n",
       "    <tr style=\"text-align: right;\">\n",
       "      <th></th>\n",
       "      <th>course_id</th>\n",
       "      <th>description</th>\n",
       "    </tr>\n",
       "  </thead>\n",
       "  <tbody>\n",
       "    <tr>\n",
       "      <th>16</th>\n",
       "      <td>ENES397</td>\n",
       "      <td>Practice essential skills for leading and coaching multidisciplinary teams. These include effective communications, facilitation, conflict resolution, and the ability to motivate.  Students will practice these skills as mentors for student teams from BMGT/ENES 190H. In the process, they will strengthen their knowledge of design and quality techniques.</td>\n",
       "    </tr>\n",
       "    <tr>\n",
       "      <th>36</th>\n",
       "      <td>ENES666</td>\n",
       "      <td>Transition from creative, innovative, design thinking methods to prototyping and concept testing of products and services. Learn how to translate ideas into marketable offerings to create real value for customers and the new venture. Emphasis is placed on an integrated and interdisciplinary approach to engineering design, concurrent engineering, design for manufacturing, industrial design, and the business of new product development. Topics include design methods, modeling and simulation, material and manufacturing process selection, platform and modular design, mass customization, planning and scheduling, and business issues, teamwork, group dynamics, creativity, and innovation.</td>\n",
       "    </tr>\n",
       "    <tr>\n",
       "      <th>5</th>\n",
       "      <td>ENES140</td>\n",
       "      <td>Students explore dynamic company startup topics by working in teams to design a new venture. This multi-disciplinary course helps students to learn the basic business, strategy, and leadership skills needed to launch new ventures. Topics include learning how to assess the feasibility of a startup venture, as well as how to apply best practices for planning, launching, and managing new companies. Students discuss a wide range of issues of importance and concern to entrepreneurs and learn to recognize opportunities, assess the skills and talents of successful entrepreneurs, and learn models that help them navigate uncertainty.</td>\n",
       "    </tr>\n",
       "    <tr>\n",
       "      <th>25</th>\n",
       "      <td>ENES489P</td>\n",
       "      <td>This hands-on design projects course will expose senior-level undergraduates and graduate students from all areas of engineering to to exciting career opportunities in the systems engineering field. Students will be introduced to the technical aspects of systems engineering practice through team-based project development and a systematic step-by-step procedure for product development that includes defining operations concepts, requirements gathering and organization, synthesis of models of system behavior and system structure, functional allocationto create system design alternatives, formal assessment of design alternatives through tradeoff analysis, and established approaches to testing and validation/verification. The students will be introduced to modern methods in Model-Based Systems Engineering, and industrial strength tools and environments for complex systems synthesis. Team projects may address problems from a wide variety of disciplines or cross-disciplines.</td>\n",
       "    </tr>\n",
       "    <tr>\n",
       "      <th>23</th>\n",
       "      <td>ENES472</td>\n",
       "      <td>The goal is to provide students with an understanding of cultural aspects pertaining to global business and engineering and develop the cultural understanding, attitudes, and communication skills needed to function appropriately within an increasingly global and multicultural working environment.</td>\n",
       "    </tr>\n",
       "  </tbody>\n",
       "</table>\n",
       "</div>"
      ],
      "text/plain": [
       "   course_id  \\\n",
       "16  ENES397    \n",
       "36  ENES666    \n",
       "5   ENES140    \n",
       "25  ENES489P   \n",
       "23  ENES472    \n",
       "\n",
       "                                                                                                                                                                                                                                                                                                                                                                                                                                                                                                                                                                                                                                                                                                                                                                                                                                                                                                                                                                                                               description  \n",
       "16  Practice essential skills for leading and coaching multidisciplinary teams. These include effective communications, facilitation, conflict resolution, and the ability to motivate.  Students will practice these skills as mentors for student teams from BMGT/ENES 190H. In the process, they will strengthen their knowledge of design and quality techniques.                                                                                                                                                                                                                                                                                                                                                                                                                                                                                                                                                                                                                                                       \n",
       "36  Transition from creative, innovative, design thinking methods to prototyping and concept testing of products and services. Learn how to translate ideas into marketable offerings to create real value for customers and the new venture. Emphasis is placed on an integrated and interdisciplinary approach to engineering design, concurrent engineering, design for manufacturing, industrial design, and the business of new product development. Topics include design methods, modeling and simulation, material and manufacturing process selection, platform and modular design, mass customization, planning and scheduling, and business issues, teamwork, group dynamics, creativity, and innovation.                                                                                                                                                                                                                                                                                                        \n",
       "5   Students explore dynamic company startup topics by working in teams to design a new venture. This multi-disciplinary course helps students to learn the basic business, strategy, and leadership skills needed to launch new ventures. Topics include learning how to assess the feasibility of a startup venture, as well as how to apply best practices for planning, launching, and managing new companies. Students discuss a wide range of issues of importance and concern to entrepreneurs and learn to recognize opportunities, assess the skills and talents of successful entrepreneurs, and learn models that help them navigate uncertainty.                                                                                                                                                                                                                                                                                                                                                                \n",
       "25  This hands-on design projects course will expose senior-level undergraduates and graduate students from all areas of engineering to to exciting career opportunities in the systems engineering field. Students will be introduced to the technical aspects of systems engineering practice through team-based project development and a systematic step-by-step procedure for product development that includes defining operations concepts, requirements gathering and organization, synthesis of models of system behavior and system structure, functional allocationto create system design alternatives, formal assessment of design alternatives through tradeoff analysis, and established approaches to testing and validation/verification. The students will be introduced to modern methods in Model-Based Systems Engineering, and industrial strength tools and environments for complex systems synthesis. Team projects may address problems from a wide variety of disciplines or cross-disciplines.  \n",
       "23  The goal is to provide students with an understanding of cultural aspects pertaining to global business and engineering and develop the cultural understanding, attitudes, and communication skills needed to function appropriately within an increasingly global and multicultural working environment.                                                                                                                                                                                                                                                                                                                                                                                                                                                                                                                                                                                                                                                                                                               "
      ]
     },
     "execution_count": 9,
     "metadata": {},
     "output_type": "execute_result"
    }
   ],
   "source": [
    "courseName = input(str('Enter course code and course level nummber: ')).upper().strip()\n",
    "pd.set_option('display.max_colwidth', -1)\n",
    "get_recommendations(courseName)"
   ]
  },
  {
   "cell_type": "code",
   "execution_count": 12,
   "metadata": {
    "scrolled": true
   },
   "outputs": [
    {
     "data": {
      "application/vnd.jupyter.widget-view+json": {
       "model_id": "e2b30914c6c24de39cef304d32a070d5",
       "version_major": 2,
       "version_minor": 0
      },
      "text/plain": [
       "A Jupyter Widget"
      ]
     },
     "metadata": {},
     "output_type": "display_data"
    },
    {
     "data": {
      "application/vnd.jupyter.widget-view+json": {
       "model_id": "8cbc46ecffbf4c9e9aaaa699c0effd0f",
       "version_major": 2,
       "version_minor": 0
      },
      "text/plain": [
       "A Jupyter Widget"
      ]
     },
     "metadata": {},
     "output_type": "display_data"
    },
    {
     "data": {
      "application/vnd.jupyter.widget-view+json": {
       "model_id": "05a3cd82f8744af7bdd3f0f35895a56f",
       "version_major": 2,
       "version_minor": 0
      },
      "text/plain": [
       "A Jupyter Widget"
      ]
     },
     "metadata": {},
     "output_type": "display_data"
    },
    {
     "data": {
      "application/vnd.jupyter.widget-view+json": {
       "model_id": "301b8e1b1b824707a45b6d2d18ad9561",
       "version_major": 2,
       "version_minor": 0
      },
      "text/plain": [
       "A Jupyter Widget"
      ]
     },
     "metadata": {},
     "output_type": "display_data"
    },
    {
     "data": {
      "application/vnd.jupyter.widget-view+json": {
       "model_id": "387f9440321b4cdb9a4eb429ba125c05",
       "version_major": 2,
       "version_minor": 0
      },
      "text/plain": [
       "A Jupyter Widget"
      ]
     },
     "metadata": {},
     "output_type": "display_data"
    }
   ],
   "source": [
    "import ipywidgets as widgets\n",
    "from IPython.display import display\n",
    "from __future__ import print_function\n",
    "from ipywidgets import IntSlider, Output\n",
    "from IPython.display import display\n",
    "from IPython.display import clear_output\n",
    "\n",
    "button = widgets.Button(description=\"Run\")\n",
    "clear = widgets.Button(description=\"Clear\")\n",
    "text = widgets.Text()\n",
    "out = widgets.Output()\n",
    "\n",
    "markup = widgets.HTML(\n",
    "    value=\"<h3>Enter Course Code (In all Caps) and Number:</h3>\")\n",
    "\n",
    "\n",
    "display(markup)\n",
    "display(text)\n",
    "display(button, clear)\n",
    "display(out)\n",
    "\n",
    "    \n",
    "def on_button_clicked(b):\n",
    "    with out:\n",
    "        display(widgets.Output(layout={'border': '2px solid black'}))\n",
    "        print(\"Course: \" + text.value)\n",
    "        display(get_recommendations(text.value))\n",
    "        display(widgets.Output(layout={'border': '2px solid black'}))\n",
    "        \n",
    "    \n",
    "    \n",
    "def clearalloutput(b):\n",
    "    out.clear_output()\n",
    "\n",
    "button.on_click(on_button_clicked)\n",
    "clear.on_click(clearalloutput)\n",
    "\n",
    "\n",
    "\n",
    "\n"
   ]
  },
  {
   "cell_type": "code",
   "execution_count": null,
   "metadata": {
    "collapsed": true
   },
   "outputs": [],
   "source": []
  }
 ],
 "metadata": {
  "kernelspec": {
   "display_name": "Python 3",
   "language": "python",
   "name": "python3"
  },
  "language_info": {
   "codemirror_mode": {
    "name": "ipython",
    "version": 3
   },
   "file_extension": ".py",
   "mimetype": "text/x-python",
   "name": "python",
   "nbconvert_exporter": "python",
   "pygments_lexer": "ipython3",
   "version": "3.6.3"
  }
 },
 "nbformat": 4,
 "nbformat_minor": 2
}
