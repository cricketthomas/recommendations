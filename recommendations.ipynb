{
 "cells": [
  {
   "cell_type": "code",
   "execution_count": 1,
   "metadata": {},
   "outputs": [],
   "source": [
    "import pandas as pd \n",
    "import numpy as np\n",
    "import warnings\n",
    "warnings.filterwarnings('ignore')\n",
    "\n",
    "#df = pd.read_csv('./ml-20m/movies.csv', sep='\\t', names=['user_id','item_id','rating','titmestamp'])\n",
    "#df = pd.read_csv('./ml-20m/u.data', sep='\\t', names=['user_id','item_id','rating','titmestamp'])\n",
    "df = pd.read_csv('u.data', sep='\\t', names=['user_id','item_id','rating','titmestamp'])\n",
    "df.head()\n",
    "\n",
    "movie_titles = pd.read_csv('./ml-20m/Movie_Titles.csv')\n",
    "#movie_titles.head()\n",
    "\n",
    "\n",
    "#https://www.datacamp.com/community/tutorials/recommender-systems-python, https://stackabuse.com/creating-a-simple-recommender-system-in-python-using-pandas/\n",
    "\n",
    "\n",
    "\n"
   ]
  },
  {
   "cell_type": "code",
   "execution_count": null,
   "metadata": {},
   "outputs": [],
   "source": []
  }
 ],
 "metadata": {
  "kernelspec": {
   "display_name": "Python 3",
   "language": "python",
   "name": "python3"
  },
  "language_info": {
   "codemirror_mode": {
    "name": "ipython",
    "version": 3
   },
   "file_extension": ".py",
   "mimetype": "text/x-python",
   "name": "python",
   "nbconvert_exporter": "python",
   "pygments_lexer": "ipython3",
   "version": "3.6.3"
  }
 },
 "nbformat": 4,
 "nbformat_minor": 2
}
