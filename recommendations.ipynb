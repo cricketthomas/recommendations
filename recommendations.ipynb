{
 "cells": [
  {
   "cell_type": "code",
   "execution_count": 3,
   "metadata": {
    "collapsed": true
   },
   "outputs": [],
   "source": [
    "import urllib.request, urllib.parse, urllib.error\n",
    "import json\n",
    "import time\n",
    "import random\n",
    "import requests\n",
    "import sys, time\n",
    "import pandas as pd \n",
    "from pandas.io.json import json_normalize\n",
    "import pandas as pd \n",
    "import numpy as np\n",
    "import warnings\n",
    "warnings.filterwarnings('ignore')"
   ]
  },
  {
   "cell_type": "code",
   "execution_count": 4,
   "metadata": {
    "collapsed": true
   },
   "outputs": [],
   "source": [
    "#Collecting data and formatting it. \n",
    "def getCourseURL():\n",
    "    courserequested = input(str(\"Enter the course code: \")).upper()\n",
    "    url_return = 'https://api.umd.io/v0/courses/'\n",
    "    url = 'https://api.umd.io/v0/courses/list'\n",
    "    uh = urllib.request.urlopen(url)\n",
    "    print('retrieving', url)\n",
    "    data = uh.read().decode()\n",
    "    info = json.loads(data)\n",
    "    #print(json.dumps(info, indent=4, separators=(\". \", \" = \")))\n",
    "    courses_array = []\n",
    "    for courselist in info:\n",
    "        if courselist['course_id'].startswith(courserequested):\n",
    "            courses_array.append(courselist['course_id'])\n",
    "            #print(courselist['course_id'])\n",
    "            #print(courses_array)\n",
    "    myString = \",\".join(courses_array)\n",
    "    url_return=url_return+myString\n",
    "    print(url_return)  \n",
    "    return url_return\n",
    "\n",
    "#print(getCourseURL(courserequested))\n",
    "\n",
    "def getJSON(url):\n",
    "    uh = urllib.request.urlopen(url)\n",
    "    print('retrieving', url)\n",
    "    data = uh.read().decode()\n",
    "    info = json.loads(data)\n",
    "    #making the file so you can read it in your script. \n",
    "    with open(\"coursedata.json\", \"w\") as writeJSON:\n",
    "        json.dump(json.dumps({\"data\": info}, indent=3), writeJSON, ensure_ascii=False)\n",
    "    return (json.dumps({\"data\": info}, indent=4))\n",
    "#getJSON(getCourseURL(courserequested))\n",
    "\n"
   ]
  },
  {
   "cell_type": "code",
   "execution_count": 5,
   "metadata": {},
   "outputs": [
    {
     "name": "stdout",
     "output_type": "stream",
     "text": [
      "Enter the course code: cmsc\n",
      "retrieving https://api.umd.io/v0/courses/list\n",
      "https://api.umd.io/v0/courses/CMSC122,CMSC131,CMSC132,CMSC132A,CMSC216,CMSC216H,CMSC250,CMSC250H,CMSC298A,CMSC320,CMSC330,CMSC351,CMSC389N,CMSC390,CMSC396H,CMSC411,CMSC412,CMSC414,CMSC417,CMSC420,CMSC421,CMSC422,CMSC423,CMSC424,CMSC425,CMSC426,CMSC433,CMSC434,CMSC435,CMSC436,CMSC451,CMSC452,CMSC456,CMSC457,CMSC460,CMSC466,CMSC470,CMSC474,CMSC475,CMSC498A,CMSC498L,CMSC498O,CMSC498U,CMSC499A,CMSC631,CMSC642,CMSC644,CMSC661,CMSC664,CMSC712,CMSC722,CMSC726,CMSC733,CMSC740,CMSC764,CMSC773,CMSC798,CMSC798F,CMSC799,CMSC818N,CMSC818W,CMSC818X,CMSC818Y,CMSC828B,CMSC828F,CMSC828U,CMSC828X,CMSC838J,CMSC858M,CMSC898,CMSC899\n"
     ]
    },
    {
     "data": {
      "text/html": [
       "<div>\n",
       "<style>\n",
       "    .dataframe thead tr:only-child th {\n",
       "        text-align: right;\n",
       "    }\n",
       "\n",
       "    .dataframe thead th {\n",
       "        text-align: left;\n",
       "    }\n",
       "\n",
       "    .dataframe tbody tr th {\n",
       "        vertical-align: top;\n",
       "    }\n",
       "</style>\n",
       "<table border=\"1\" class=\"dataframe\">\n",
       "  <thead>\n",
       "    <tr style=\"text-align: right;\">\n",
       "      <th></th>\n",
       "      <th>core</th>\n",
       "      <th>course_id</th>\n",
       "      <th>credits</th>\n",
       "      <th>department</th>\n",
       "      <th>dept_id</th>\n",
       "      <th>description</th>\n",
       "      <th>gen_ed</th>\n",
       "      <th>grading_method</th>\n",
       "      <th>name</th>\n",
       "      <th>relationships</th>\n",
       "      <th>sections</th>\n",
       "      <th>semester</th>\n",
       "      <th>popularity</th>\n",
       "      <th>popularity_avg</th>\n",
       "    </tr>\n",
       "  </thead>\n",
       "  <tbody>\n",
       "    <tr>\n",
       "      <th>0</th>\n",
       "      <td>[I]</td>\n",
       "      <td>CMSC122</td>\n",
       "      <td>3</td>\n",
       "      <td>Computer Science</td>\n",
       "      <td>CMSC</td>\n",
       "      <td>Introduction to computer programming in the co...</td>\n",
       "      <td>[DSSP]</td>\n",
       "      <td>[Regular]</td>\n",
       "      <td>Introduction to Computer Programming via the Web</td>\n",
       "      <td>{'prereqs': None, 'coreqs': None, 'restriction...</td>\n",
       "      <td>[CMSC122-0101, CMSC122-0201]</td>\n",
       "      <td>201901</td>\n",
       "      <td>2</td>\n",
       "      <td>0.830409</td>\n",
       "    </tr>\n",
       "    <tr>\n",
       "      <th>1</th>\n",
       "      <td>[]</td>\n",
       "      <td>CMSC131</td>\n",
       "      <td>4</td>\n",
       "      <td>Computer Science</td>\n",
       "      <td>CMSC</td>\n",
       "      <td>Introduction to programming and computer scien...</td>\n",
       "      <td>[]</td>\n",
       "      <td>[Regular]</td>\n",
       "      <td>Object-Oriented Programming I</td>\n",
       "      <td>{'prereqs': None, 'coreqs': 'MATH140; and perm...</td>\n",
       "      <td>[CMSC131-0101, CMSC131-0102, CMSC131-0103, CMS...</td>\n",
       "      <td>201901</td>\n",
       "      <td>20</td>\n",
       "      <td>8.304094</td>\n",
       "    </tr>\n",
       "    <tr>\n",
       "      <th>2</th>\n",
       "      <td>[]</td>\n",
       "      <td>CMSC132</td>\n",
       "      <td>4</td>\n",
       "      <td>Computer Science</td>\n",
       "      <td>CMSC</td>\n",
       "      <td>Introduction to use of computers to solve prob...</td>\n",
       "      <td>[]</td>\n",
       "      <td>[Regular]</td>\n",
       "      <td>Object-Oriented Programming II</td>\n",
       "      <td>{'prereqs': 'Minimum grade of C- in CMSC131; o...</td>\n",
       "      <td>[CMSC132-0101, CMSC132-0102, CMSC132-0103, CMS...</td>\n",
       "      <td>201901</td>\n",
       "      <td>23</td>\n",
       "      <td>9.549708</td>\n",
       "    </tr>\n",
       "  </tbody>\n",
       "</table>\n",
       "</div>"
      ],
      "text/plain": [
       "  core course_id  credits        department dept_id  \\\n",
       "0  [I]   CMSC122        3  Computer Science    CMSC   \n",
       "1   []   CMSC131        4  Computer Science    CMSC   \n",
       "2   []   CMSC132        4  Computer Science    CMSC   \n",
       "\n",
       "                                         description  gen_ed grading_method  \\\n",
       "0  Introduction to computer programming in the co...  [DSSP]      [Regular]   \n",
       "1  Introduction to programming and computer scien...      []      [Regular]   \n",
       "2  Introduction to use of computers to solve prob...      []      [Regular]   \n",
       "\n",
       "                                               name  \\\n",
       "0  Introduction to Computer Programming via the Web   \n",
       "1                     Object-Oriented Programming I   \n",
       "2                    Object-Oriented Programming II   \n",
       "\n",
       "                                       relationships  \\\n",
       "0  {'prereqs': None, 'coreqs': None, 'restriction...   \n",
       "1  {'prereqs': None, 'coreqs': 'MATH140; and perm...   \n",
       "2  {'prereqs': 'Minimum grade of C- in CMSC131; o...   \n",
       "\n",
       "                                            sections  semester  popularity  \\\n",
       "0                       [CMSC122-0101, CMSC122-0201]    201901           2   \n",
       "1  [CMSC131-0101, CMSC131-0102, CMSC131-0103, CMS...    201901          20   \n",
       "2  [CMSC132-0101, CMSC132-0102, CMSC132-0103, CMS...    201901          23   \n",
       "\n",
       "   popularity_avg  \n",
       "0        0.830409  \n",
       "1        8.304094  \n",
       "2        9.549708  "
      ]
     },
     "execution_count": 5,
     "metadata": {},
     "output_type": "execute_result"
    }
   ],
   "source": [
    "# UMD.io Data Getting user input for course: \n",
    "df = pd.read_json(getCourseURL(), orient='columns')\n",
    "#df[['course_id', 'description', 'name']].head(3)  len(df['sections'][1])\n",
    "df['popularity'] = [len(c) for c in df['sections']] #this assigns a score based on the amount of sections, assumming past popularity merits more sections?!\n",
    "df['popularity_avg'] = df['popularity']/df['popularity'].mean()\n",
    "#a = df['grading_method'][1]\n",
    "#print(len(a))\n",
    "df.head(3)"
   ]
  },
  {
   "cell_type": "code",
   "execution_count": 6,
   "metadata": {},
   "outputs": [
    {
     "name": "stdout",
     "output_type": "stream",
     "text": [
      "weighted rating of popularity (sectionCount): 2.408450704225352\n",
      "minimum number of rank required to be in the chart: 3.4000000000000057\n"
     ]
    },
    {
     "data": {
      "text/html": [
       "<div>\n",
       "<style>\n",
       "    .dataframe thead tr:only-child th {\n",
       "        text-align: right;\n",
       "    }\n",
       "\n",
       "    .dataframe thead th {\n",
       "        text-align: left;\n",
       "    }\n",
       "\n",
       "    .dataframe tbody tr th {\n",
       "        vertical-align: top;\n",
       "    }\n",
       "</style>\n",
       "<table border=\"1\" class=\"dataframe\">\n",
       "  <thead>\n",
       "    <tr style=\"text-align: right;\">\n",
       "      <th></th>\n",
       "      <th>course_id</th>\n",
       "      <th>description</th>\n",
       "      <th>name</th>\n",
       "      <th>popularity</th>\n",
       "      <th>popularity_avg</th>\n",
       "    </tr>\n",
       "  </thead>\n",
       "  <tbody>\n",
       "    <tr>\n",
       "      <th>2</th>\n",
       "      <td>CMSC132</td>\n",
       "      <td>Introduction to use of computers to solve prob...</td>\n",
       "      <td>Object-Oriented Programming II</td>\n",
       "      <td>23</td>\n",
       "      <td>9.549708</td>\n",
       "    </tr>\n",
       "    <tr>\n",
       "      <th>1</th>\n",
       "      <td>CMSC131</td>\n",
       "      <td>Introduction to programming and computer scien...</td>\n",
       "      <td>Object-Oriented Programming I</td>\n",
       "      <td>20</td>\n",
       "      <td>8.304094</td>\n",
       "    </tr>\n",
       "    <tr>\n",
       "      <th>10</th>\n",
       "      <td>CMSC330</td>\n",
       "      <td>The semantics of programming languages and the...</td>\n",
       "      <td>Organization of Programming Languages</td>\n",
       "      <td>20</td>\n",
       "      <td>8.304094</td>\n",
       "    </tr>\n",
       "    <tr>\n",
       "      <th>6</th>\n",
       "      <td>CMSC250</td>\n",
       "      <td>Fundamental mathematical concepts related to c...</td>\n",
       "      <td>Discrete Structures</td>\n",
       "      <td>18</td>\n",
       "      <td>7.473684</td>\n",
       "    </tr>\n",
       "    <tr>\n",
       "      <th>4</th>\n",
       "      <td>CMSC216</td>\n",
       "      <td>Machine representation of data including integ...</td>\n",
       "      <td>Introduction to Computer Systems</td>\n",
       "      <td>16</td>\n",
       "      <td>6.643275</td>\n",
       "    </tr>\n",
       "    <tr>\n",
       "      <th>11</th>\n",
       "      <td>CMSC351</td>\n",
       "      <td>A systematic study of the complexity of some e...</td>\n",
       "      <td>Algorithms</td>\n",
       "      <td>4</td>\n",
       "      <td>1.660819</td>\n",
       "    </tr>\n",
       "  </tbody>\n",
       "</table>\n",
       "</div>"
      ],
      "text/plain": [
       "   course_id                                        description  \\\n",
       "2    CMSC132  Introduction to use of computers to solve prob...   \n",
       "1    CMSC131  Introduction to programming and computer scien...   \n",
       "10   CMSC330  The semantics of programming languages and the...   \n",
       "6    CMSC250  Fundamental mathematical concepts related to c...   \n",
       "4    CMSC216  Machine representation of data including integ...   \n",
       "11   CMSC351  A systematic study of the complexity of some e...   \n",
       "\n",
       "                                     name  popularity  popularity_avg  \n",
       "2          Object-Oriented Programming II          23        9.549708  \n",
       "1           Object-Oriented Programming I          20        8.304094  \n",
       "10  Organization of Programming Languages          20        8.304094  \n",
       "6                     Discrete Structures          18        7.473684  \n",
       "4        Introduction to Computer Systems          16        6.643275  \n",
       "11                             Algorithms           4        1.660819  "
      ]
     },
     "execution_count": 6,
     "metadata": {},
     "output_type": "execute_result"
    }
   ],
   "source": [
    "#Getting final version of what data i need and calulating the mean.  \n",
    "#df[['course_id', 'description', 'name', 'rank']].head(15).to_csv('test.csv', sep='\\t', encoding='utf-8')\n",
    "df[['course_id', 'description', 'name', 'popularity', 'popularity_avg']].head(15)\n",
    "#weighted rating of courses\n",
    "C = df['popularity'].mean()\n",
    "print(\"weighted rating of popularity (sectionCount): \" + str(C)) # section count is popularity\n",
    "# Calculate the minimum number of votes required to be in the chart, m\n",
    "m = df['popularity'].quantile(0.92)\n",
    "print(\"minimum number of rank required to be in the chart: \" + str(m))\n",
    "# Filter out all qualified classes into a new DataFrame\n",
    "q_classes = df.copy().loc[df['popularity'] >= m]\n",
    "q_classes.shape\n",
    "#mimicing their catagorical classifier\n",
    "def weighted_rating(x, m=m, C=C):\n",
    "    v = x['popularity']\n",
    "    R = x['popularity_avg']\n",
    "    # Calculation based on the IMDB formula \n",
    "    return (v/(v+m) * R) + (m/(m+v) * C) # thing to modify for courses?\n",
    "#adding new column with score\n",
    "q_classes['score'] = q_classes.apply(weighted_rating, axis=1)\n",
    "#sorting movvies based on ^ and printing\n",
    "q_classes = q_classes.sort_values('score', ascending=False)\n",
    "q_classes[['course_id', 'description', 'name', 'popularity', 'popularity_avg']].head(15)\n"
   ]
  },
  {
   "cell_type": "code",
   "execution_count": 74,
   "metadata": {},
   "outputs": [
    {
     "name": "stdout",
     "output_type": "stream",
     "text": [
      "Enter the course code: gvpt\n",
      "retrieving https://api.umd.io/v0/courses/list\n",
      "https://api.umd.io/v0/courses/GVPT170,GVPT200,GVPT201,GVPT202,GVPT203,GVPT221,GVPT241,GVPT273,GVPT282,GVPT301,GVPT306,GVPT317,GVPT319C,GVPT319D,GVPT319E,GVPT319G,GVPT331,GVPT355,GVPT356,GVPT359F,GVPT388,GVPT388L,GVPT388M,GVPT388W,GVPT390,GVPT396,GVPT397,GVPT409A,GVPT409G,GVPT409H,GVPT409O,GVPT409W,GVPT420,GVPT423H,GVPT429E,GVPT432,GVPT439A,GVPT439D,GVPT439F,GVPT445,GVPT449G,GVPT449I,GVPT456,GVPT459E,GVPT459H,GVPT459M,GVPT459N,GVPT459P,GVPT459R,GVPT459V,GVPT461,GVPT474,GVPT475,GVPT477,GVPT722,GVPT743,GVPT771,GVPT799,GVPT803,GVPT808B,GVPT808C,GVPT828B,GVPT831,GVPT834,GVPT888P,GVPT898,GVPT899\n"
     ]
    },
    {
     "data": {
      "text/plain": [
       "(67, 500)"
      ]
     },
     "execution_count": 74,
     "metadata": {},
     "output_type": "execute_result"
    }
   ],
   "source": [
    "from sklearn.feature_extraction.text import TfidfVectorizer\n",
    "from sklearn.feature_extraction.text import CountVectorizer\n",
    "#Content based Recommendations from Courses: \n",
    "df = pd.read_json(getCourseURL(), orient='columns')\n",
    "df['description'].head()\n",
    "\n",
    "\n",
    "#tfidf = TfidfVectorizer(stop_words) #stop words like in R!\n",
    "tfidf = TfidfVectorizer(stop_words='english',max_features=500) #stop words like in R!\n",
    "df['description'] = df['description'].fillna('') \n",
    "\n",
    "#Construct the required TF-IDF matrix by fitting and transforming the data\n",
    "tfidf_matrix = tfidf.fit_transform(df['description'])\n",
    "\n",
    "#Output the shape of tfidf_matrix\n",
    "tfidf_matrix.shape\n"
   ]
  },
  {
   "cell_type": "code",
   "execution_count": 75,
   "metadata": {
    "collapsed": true
   },
   "outputs": [],
   "source": [
    "from sklearn.metrics.pairwise import linear_kernel\n",
    "# Compute the cosine similarity matrix\n",
    "cosine_sim = linear_kernel(tfidf_matrix, tfidf_matrix)\n",
    "\n",
    "indices = pd.Series(df.index, index=df['course_id']).drop_duplicates()\n",
    "def get_recommendations(courseName, cosine_sim=cosine_sim):\n",
    "    # Get the index of the movie that matches the title\n",
    "    idx = indices[courseName]\n",
    "\n",
    "    # Get the pairwsie similarity scores of all\n",
    "    sim_scores = list(enumerate(cosine_sim[idx]))\n",
    "\n",
    "    # Sort the courses based on the similarity scores\n",
    "    sim_scores = sorted(sim_scores, key=lambda x: x[1], reverse=True)\n",
    "\n",
    "    # Get the scores of the 5 most similar classes\n",
    "    sim_scores = sim_scores[1:6]\n",
    "\n",
    "    # Get the classes indices\n",
    "    courses_indices = [i[0] for i in sim_scores]\n",
    "\n",
    "    # Return the top 6 most similar classes\n",
    "    return df[['course_id', 'description']].iloc[courses_indices]"
   ]
  },
  {
   "cell_type": "code",
   "execution_count": 76,
   "metadata": {},
   "outputs": [
    {
     "name": "stdout",
     "output_type": "stream",
     "text": [
      "Enter course code and course level nummber: gvpt201\n"
     ]
    },
    {
     "data": {
      "text/html": [
       "<div>\n",
       "<style>\n",
       "    .dataframe thead tr:only-child th {\n",
       "        text-align: right;\n",
       "    }\n",
       "\n",
       "    .dataframe thead th {\n",
       "        text-align: left;\n",
       "    }\n",
       "\n",
       "    .dataframe tbody tr th {\n",
       "        vertical-align: top;\n",
       "    }\n",
       "</style>\n",
       "<table border=\"1\" class=\"dataframe\">\n",
       "  <thead>\n",
       "    <tr style=\"text-align: right;\">\n",
       "      <th></th>\n",
       "      <th>course_id</th>\n",
       "      <th>description</th>\n",
       "    </tr>\n",
       "  </thead>\n",
       "  <tbody>\n",
       "    <tr>\n",
       "      <th>23</th>\n",
       "      <td>GVPT396</td>\n",
       "      <td>A required course for all honors students designed to emphasize library research, methodology, and writing skills in political science and political philosophy. A written proposal, bibliography and research design for an honors paper required of all students as a final project.</td>\n",
       "    </tr>\n",
       "    <tr>\n",
       "      <th>44</th>\n",
       "      <td>GVPT477</td>\n",
       "      <td>A study of the factors that influence individual vote choice and voter participation in the U.S. The course will introduce political science research pertaining to both topics and will engage current controversies over such things as political campaign laws and the various state and federal rules that govern election administration.</td>\n",
       "    </tr>\n",
       "    <tr>\n",
       "      <th>47</th>\n",
       "      <td>GVPT771</td>\n",
       "      <td>This is the core seminar in American political behavior. The course wil deal with prominent theoretical and empirical issues in the areas of voting, public opinion, political participation and other aspects of political behavior in the American context.</td>\n",
       "    </tr>\n",
       "    <tr>\n",
       "      <th>22</th>\n",
       "      <td>GVPT390</td>\n",
       "      <td>Introduction to game theory with applications to political science, economics and sociology. Topics include preference theory, expected utility theory, Nash equilibria, subgame perfection, repeated games, folk theorems, and evolutionary stability.</td>\n",
       "    </tr>\n",
       "    <tr>\n",
       "      <th>24</th>\n",
       "      <td>GVPT397</td>\n",
       "      <td>Individual reading and research. Preparation of an original paper.</td>\n",
       "    </tr>\n",
       "  </tbody>\n",
       "</table>\n",
       "</div>"
      ],
      "text/plain": [
       "   course_id  \\\n",
       "23  GVPT396    \n",
       "44  GVPT477    \n",
       "47  GVPT771    \n",
       "22  GVPT390    \n",
       "24  GVPT397    \n",
       "\n",
       "                                                                                                                                                                                                                                                                                                                                       description  \n",
       "23  A required course for all honors students designed to emphasize library research, methodology, and writing skills in political science and political philosophy. A written proposal, bibliography and research design for an honors paper required of all students as a final project.                                                          \n",
       "44  A study of the factors that influence individual vote choice and voter participation in the U.S. The course will introduce political science research pertaining to both topics and will engage current controversies over such things as political campaign laws and the various state and federal rules that govern election administration.  \n",
       "47  This is the core seminar in American political behavior. The course wil deal with prominent theoretical and empirical issues in the areas of voting, public opinion, political participation and other aspects of political behavior in the American context.                                                                                   \n",
       "22  Introduction to game theory with applications to political science, economics and sociology. Topics include preference theory, expected utility theory, Nash equilibria, subgame perfection, repeated games, folk theorems, and evolutionary stability.                                                                                         \n",
       "24  Individual reading and research. Preparation of an original paper.                                                                                                                                                                                                                                                                              "
      ]
     },
     "execution_count": 76,
     "metadata": {},
     "output_type": "execute_result"
    }
   ],
   "source": [
    "courseName = input(str('Enter course code and course level nummber: ')).upper().strip()\n",
    "pd.set_option('display.max_colwidth', -1)\n",
    "get_recommendations(courseName)"
   ]
  },
  {
   "cell_type": "code",
   "execution_count": null,
   "metadata": {
    "collapsed": true
   },
   "outputs": [],
   "source": []
  },
  {
   "cell_type": "code",
   "execution_count": 130,
   "metadata": {
    "scrolled": true
   },
   "outputs": [
    {
     "data": {
      "application/vnd.jupyter.widget-view+json": {
       "model_id": "21a78196b83148c79099325473ba736f",
       "version_major": 2,
       "version_minor": 0
      },
      "text/plain": [
       "A Jupyter Widget"
      ]
     },
     "metadata": {},
     "output_type": "display_data"
    },
    {
     "data": {
      "application/vnd.jupyter.widget-view+json": {
       "model_id": "8d8bf4ea30a049cf87d95409b14abc20",
       "version_major": 2,
       "version_minor": 0
      },
      "text/plain": [
       "A Jupyter Widget"
      ]
     },
     "metadata": {},
     "output_type": "display_data"
    },
    {
     "data": {
      "application/vnd.jupyter.widget-view+json": {
       "model_id": "7e7230e276b34be3a7545601174bf0d8",
       "version_major": 2,
       "version_minor": 0
      },
      "text/plain": [
       "A Jupyter Widget"
      ]
     },
     "metadata": {},
     "output_type": "display_data"
    },
    {
     "name": "stdout",
     "output_type": "stream",
     "text": [
      "Course: GVPT201\n"
     ]
    },
    {
     "data": {
      "text/html": [
       "<div>\n",
       "<style>\n",
       "    .dataframe thead tr:only-child th {\n",
       "        text-align: right;\n",
       "    }\n",
       "\n",
       "    .dataframe thead th {\n",
       "        text-align: left;\n",
       "    }\n",
       "\n",
       "    .dataframe tbody tr th {\n",
       "        vertical-align: top;\n",
       "    }\n",
       "</style>\n",
       "<table border=\"1\" class=\"dataframe\">\n",
       "  <thead>\n",
       "    <tr style=\"text-align: right;\">\n",
       "      <th></th>\n",
       "      <th>course_id</th>\n",
       "      <th>description</th>\n",
       "    </tr>\n",
       "  </thead>\n",
       "  <tbody>\n",
       "    <tr>\n",
       "      <th>23</th>\n",
       "      <td>GVPT396</td>\n",
       "      <td>A required course for all honors students designed to emphasize library research, methodology, and writing skills in political science and political philosophy. A written proposal, bibliography and research design for an honors paper required of all students as a final project.</td>\n",
       "    </tr>\n",
       "    <tr>\n",
       "      <th>44</th>\n",
       "      <td>GVPT477</td>\n",
       "      <td>A study of the factors that influence individual vote choice and voter participation in the U.S. The course will introduce political science research pertaining to both topics and will engage current controversies over such things as political campaign laws and the various state and federal rules that govern election administration.</td>\n",
       "    </tr>\n",
       "    <tr>\n",
       "      <th>47</th>\n",
       "      <td>GVPT771</td>\n",
       "      <td>This is the core seminar in American political behavior. The course wil deal with prominent theoretical and empirical issues in the areas of voting, public opinion, political participation and other aspects of political behavior in the American context.</td>\n",
       "    </tr>\n",
       "    <tr>\n",
       "      <th>22</th>\n",
       "      <td>GVPT390</td>\n",
       "      <td>Introduction to game theory with applications to political science, economics and sociology. Topics include preference theory, expected utility theory, Nash equilibria, subgame perfection, repeated games, folk theorems, and evolutionary stability.</td>\n",
       "    </tr>\n",
       "    <tr>\n",
       "      <th>24</th>\n",
       "      <td>GVPT397</td>\n",
       "      <td>Individual reading and research. Preparation of an original paper.</td>\n",
       "    </tr>\n",
       "  </tbody>\n",
       "</table>\n",
       "</div>"
      ],
      "text/plain": [
       "   course_id  \\\n",
       "23  GVPT396    \n",
       "44  GVPT477    \n",
       "47  GVPT771    \n",
       "22  GVPT390    \n",
       "24  GVPT397    \n",
       "\n",
       "                                                                                                                                                                                                                                                                                                                                       description  \n",
       "23  A required course for all honors students designed to emphasize library research, methodology, and writing skills in political science and political philosophy. A written proposal, bibliography and research design for an honors paper required of all students as a final project.                                                          \n",
       "44  A study of the factors that influence individual vote choice and voter participation in the U.S. The course will introduce political science research pertaining to both topics and will engage current controversies over such things as political campaign laws and the various state and federal rules that govern election administration.  \n",
       "47  This is the core seminar in American political behavior. The course wil deal with prominent theoretical and empirical issues in the areas of voting, public opinion, political participation and other aspects of political behavior in the American context.                                                                                   \n",
       "22  Introduction to game theory with applications to political science, economics and sociology. Topics include preference theory, expected utility theory, Nash equilibria, subgame perfection, repeated games, folk theorems, and evolutionary stability.                                                                                         \n",
       "24  Individual reading and research. Preparation of an original paper.                                                                                                                                                                                                                                                                              "
      ]
     },
     "metadata": {},
     "output_type": "display_data"
    }
   ],
   "source": [
    "import ipywidgets as widgets\n",
    "from IPython.display import display\n",
    "from __future__ import print_function\n",
    "from ipywidgets import IntSlider, Output\n",
    "from IPython.display import display\n",
    "from IPython.display import clear_output\n",
    "\n",
    "button = widgets.Button(description=\"Run\")\n",
    "clear = widgets.Button(description=\"Clear\")\n",
    "\n",
    "text = widgets.Text()\n",
    "display(clear)\n",
    "\n",
    "display(text)\n",
    "display(button)\n",
    "\n",
    "\n",
    "    \n",
    "def on_button_clicked(b):\n",
    "    print(\"Course: \" + text.value)\n",
    "    a = (get_recommendations(text.value))\n",
    "    out = widgets.Output(layout={'border': '1px solid black'})\n",
    "    display(a)\n",
    "    \n",
    "    \n",
    "def clearalloutput(b):\n",
    "    a.clear_output()\n",
    "\n",
    "button.on_click(on_button_clicked)\n",
    "clear.on_click(clearalloutput)\n",
    "\n",
    "\n",
    "\n",
    "\n"
   ]
  },
  {
   "cell_type": "code",
   "execution_count": null,
   "metadata": {
    "collapsed": true
   },
   "outputs": [],
   "source": []
  }
 ],
 "metadata": {
  "kernelspec": {
   "display_name": "Python 3",
   "language": "python",
   "name": "python3"
  },
  "language_info": {
   "codemirror_mode": {
    "name": "ipython",
    "version": 3
   },
   "file_extension": ".py",
   "mimetype": "text/x-python",
   "name": "python",
   "nbconvert_exporter": "python",
   "pygments_lexer": "ipython3",
   "version": "3.6.3"
  }
 },
 "nbformat": 4,
 "nbformat_minor": 2
}
