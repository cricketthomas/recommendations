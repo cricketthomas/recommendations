{
 "cells": [
  {
   "cell_type": "code",
   "execution_count": 1,
   "metadata": {},
   "outputs": [],
   "source": [
    "from IPython.display import display\n",
    "from ipywidgets import IntSlider, Output\n",
    "from IPython.display import display\n",
    "from IPython.display import clear_output\n",
    "from sklearn.feature_extraction.text import TfidfVectorizer\n",
    "from sklearn.feature_extraction.text import CountVectorizer\n",
    "import urllib.request, urllib.parse, urllib.error\n",
    "import json\n",
    "import time\n",
    "import random\n",
    "import requests\n",
    "import sys, time\n",
    "import pandas as pd \n",
    "from pandas.io.json import json_normalize\n",
    "import pandas as pd \n",
    "import numpy as np\n",
    "import warnings\n",
    "import ipywidgets as widgets\n",
    "warnings.filterwarnings('ignore')"
   ]
  },
  {
   "cell_type": "code",
   "execution_count": 2,
   "metadata": {},
   "outputs": [],
   "source": [
    "#Collecting data and formatting it. \n",
    "def getCourseURL():\n",
    "    courserequested = input(str(\"Enter the course code: \")).upper()\n",
    "    url_return = 'https://api.umd.io/v0/courses/'\n",
    "    url = 'https://api.umd.io/v0/courses/list'\n",
    "    uh = urllib.request.urlopen(url)\n",
    "    print('retrieving', url)\n",
    "    data = uh.read().decode()\n",
    "    info = json.loads(data)\n",
    "    #print(json.dumps(info, indent=4, separators=(\". \", \" = \")))\n",
    "    courses_array = []\n",
    "    for courselist in info:\n",
    "        if courselist['course_id'].startswith(courserequested):\n",
    "            courses_array.append(courselist['course_id'])\n",
    "            #print(courselist['course_id'])\n",
    "            #print(courses_array)\n",
    "    myString = \",\".join(courses_array)\n",
    "    url_return=url_return+myString\n",
    "    print(url_return)  \n",
    "    return url_return\n",
    "\n",
    "def getCourseURL_ipywidget(courserequested):\n",
    "    #courserequested = input(str(\"Enter the course code: \")).upper()\n",
    "    url_return = 'https://api.umd.io/v0/courses/'\n",
    "    url = 'https://api.umd.io/v0/courses/list'\n",
    "    uh = urllib.request.urlopen(url)\n",
    "    print('retrieving', url)\n",
    "    data = uh.read().decode()\n",
    "    info = json.loads(data)\n",
    "    #print(json.dumps(info, indent=4, separators=(\". \", \" = \")))\n",
    "    courses_array = []\n",
    "    for courselist in info:\n",
    "        if courselist['course_id'].startswith(courserequested):\n",
    "            courses_array.append(courselist['course_id'])\n",
    "            #print(courselist['course_id'])\n",
    "            #print(courses_array)\n",
    "    myString = \",\".join(courses_array)\n",
    "    url_return=url_return+myString\n",
    "    print(url_return)  \n",
    "    return url_return\n",
    "\n",
    "def getJSON(url):\n",
    "    uh = urllib.request.urlopen(url)\n",
    "    print('retrieving', url)\n",
    "    data = uh.read().decode()\n",
    "    info = json.loads(data)\n",
    "    #making the file so you can read it in your script. \n",
    "    with open(\"coursedata.json\", \"w\") as writeJSON:\n",
    "        json.dump(json.dumps({\"data\": info}, indent=3), writeJSON, ensure_ascii=False)\n",
    "    return (json.dumps({\"data\": info}, indent=4))\n",
    "#getJSON(getCourseURL(courserequested))\n",
    "\n"
   ]
  },
  {
   "cell_type": "code",
   "execution_count": 4,
   "metadata": {},
   "outputs": [
    {
     "data": {
      "application/vnd.jupyter.widget-view+json": {
       "model_id": "1a1661b3e2144d2ab750f9dc5f0dac02",
       "version_major": 2,
       "version_minor": 0
      },
      "text/plain": [
       "Output(layout=Layout(border='2px solid black'))"
      ]
     },
     "metadata": {},
     "output_type": "display_data"
    },
    {
     "data": {
      "application/vnd.jupyter.widget-view+json": {
       "model_id": "50dc7917dcba4e2c86babfe8130451fd",
       "version_major": 2,
       "version_minor": 0
      },
      "text/plain": [
       "HTML(value='<h3>Enter 4 Digit course code/major code for popularity recommendation results</h3>')"
      ]
     },
     "metadata": {},
     "output_type": "display_data"
    },
    {
     "data": {
      "application/vnd.jupyter.widget-view+json": {
       "model_id": "9561501aa61f4709b91d0d4214dd2ea0",
       "version_major": 2,
       "version_minor": 0
      },
      "text/plain": [
       "Output(layout=Layout(border='2px solid black'))"
      ]
     },
     "metadata": {},
     "output_type": "display_data"
    },
    {
     "name": "stdout",
     "output_type": "stream",
     "text": [
      "Enter the course code: hist\n",
      "retrieving https://api.umd.io/v0/courses/list\n",
      "https://api.umd.io/v0/courses/HIST110,HIST111,HIST142,HIST189B,HIST200,HIST201,HIST204,HIST208T,HIST208V,HIST208W,HIST211,HIST221,HIST222,HIST225,HIST233,HIST235,HIST236,HIST237,HIST245,HIST251,HIST255,HIST281,HIST284,HIST285,HIST286,HIST289A,HIST289R,HIST289V,HIST289X,HIST289Y,HIST299,HIST307,HIST310,HIST319A,HIST319E,HIST319I,HIST319R,HIST320,HIST321,HIST327,HIST328C,HIST328G,HIST328L,HIST328N,HIST328Q,HIST328V,HIST328Y,HIST329A,HIST329B,HIST329D,HIST329F,HIST329L,HIST329X,HIST329Z,HIST333,HIST353,HIST354,HIST356,HIST357,HIST376,HIST386,HIST396,HIST405,HIST408A,HIST408C,HIST408E,HIST408G,HIST408Q,HIST408W,HIST408X,HIST415,HIST417,HIST419F,HIST428B,HIST428F,HIST428J,HIST428K,HIST428M,HIST428O,HIST428V,HIST429D,HIST429F,HIST429Q,HIST429R,HIST429T,HIST429Y,HIST430,HIST431,HIST436,HIST455,HIST462,HIST463,HIST483,HIST499,HIST601,HIST607,HIST608B,HIST608D,HIST619A,HIST619B,HIST619C,HIST619F,HIST619J,HIST619P,HIST638J,HIST639O,HIST639X,HIST639Y,HIST708,HIST709,HIST799,HIST810,HIST811,HIST819A,HIST819B,HIST819N,HIST819Y,HIST898,HIST899\n"
     ]
    },
    {
     "data": {
      "text/html": [
       "<div>\n",
       "<style scoped>\n",
       "    .dataframe tbody tr th:only-of-type {\n",
       "        vertical-align: middle;\n",
       "    }\n",
       "\n",
       "    .dataframe tbody tr th {\n",
       "        vertical-align: top;\n",
       "    }\n",
       "\n",
       "    .dataframe thead th {\n",
       "        text-align: right;\n",
       "    }\n",
       "</style>\n",
       "<table border=\"1\" class=\"dataframe\">\n",
       "  <thead>\n",
       "    <tr style=\"text-align: right;\">\n",
       "      <th></th>\n",
       "      <th>core</th>\n",
       "      <th>course_id</th>\n",
       "      <th>credits</th>\n",
       "      <th>department</th>\n",
       "      <th>dept_id</th>\n",
       "      <th>description</th>\n",
       "      <th>gen_ed</th>\n",
       "      <th>grading_method</th>\n",
       "      <th>name</th>\n",
       "      <th>relationships</th>\n",
       "      <th>sections</th>\n",
       "      <th>semester</th>\n",
       "      <th>popularity</th>\n",
       "      <th>popularity_avg</th>\n",
       "    </tr>\n",
       "  </thead>\n",
       "  <tbody>\n",
       "    <tr>\n",
       "      <th>0</th>\n",
       "      <td>[H]</td>\n",
       "      <td>HIST110</td>\n",
       "      <td>3</td>\n",
       "      <td>History</td>\n",
       "      <td>HIST</td>\n",
       "      <td>Interpretation of select literature and art of...</td>\n",
       "      <td>[DSHU]</td>\n",
       "      <td>[Regular, Pass-Fail, Audit]</td>\n",
       "      <td>The Ancient World</td>\n",
       "      <td>{'prereqs': None, 'coreqs': None, 'restriction...</td>\n",
       "      <td>[HIST110-0101, HIST110-0102, HIST110-0103, HIS...</td>\n",
       "      <td>201901</td>\n",
       "      <td>4</td>\n",
       "      <td>2.545455</td>\n",
       "    </tr>\n",
       "    <tr>\n",
       "      <th>1</th>\n",
       "      <td>[SH]</td>\n",
       "      <td>HIST111</td>\n",
       "      <td>3</td>\n",
       "      <td>History</td>\n",
       "      <td>HIST</td>\n",
       "      <td>The development of Europe in the Middle Ages; ...</td>\n",
       "      <td>[DSHS, DVUP]</td>\n",
       "      <td>[Regular, Pass-Fail, Audit]</td>\n",
       "      <td>The Medieval World</td>\n",
       "      <td>{'prereqs': None, 'coreqs': None, 'restriction...</td>\n",
       "      <td>[HIST111-0101, HIST111-0102, HIST111-0103, HIS...</td>\n",
       "      <td>201901</td>\n",
       "      <td>4</td>\n",
       "      <td>2.545455</td>\n",
       "    </tr>\n",
       "    <tr>\n",
       "      <th>2</th>\n",
       "      <td>[SH]</td>\n",
       "      <td>HIST142</td>\n",
       "      <td>3</td>\n",
       "      <td>History</td>\n",
       "      <td>HIST</td>\n",
       "      <td>Looking at America will focus on a thematic ap...</td>\n",
       "      <td>[DSHS, SCIS]</td>\n",
       "      <td>[Regular, Pass-Fail, Audit]</td>\n",
       "      <td>Looking at America through a Global Lens</td>\n",
       "      <td>{'prereqs': None, 'coreqs': None, 'restriction...</td>\n",
       "      <td>[HIST142-0101, HIST142-0102, HIST142-0103, HIS...</td>\n",
       "      <td>201901</td>\n",
       "      <td>4</td>\n",
       "      <td>2.545455</td>\n",
       "    </tr>\n",
       "  </tbody>\n",
       "</table>\n",
       "</div>"
      ],
      "text/plain": [
       "   core course_id  credits department dept_id  \\\n",
       "0   [H]   HIST110        3    History    HIST   \n",
       "1  [SH]   HIST111        3    History    HIST   \n",
       "2  [SH]   HIST142        3    History    HIST   \n",
       "\n",
       "                                         description        gen_ed  \\\n",
       "0  Interpretation of select literature and art of...        [DSHU]   \n",
       "1  The development of Europe in the Middle Ages; ...  [DSHS, DVUP]   \n",
       "2  Looking at America will focus on a thematic ap...  [DSHS, SCIS]   \n",
       "\n",
       "                grading_method                                      name  \\\n",
       "0  [Regular, Pass-Fail, Audit]                         The Ancient World   \n",
       "1  [Regular, Pass-Fail, Audit]                        The Medieval World   \n",
       "2  [Regular, Pass-Fail, Audit]  Looking at America through a Global Lens   \n",
       "\n",
       "                                       relationships  \\\n",
       "0  {'prereqs': None, 'coreqs': None, 'restriction...   \n",
       "1  {'prereqs': None, 'coreqs': None, 'restriction...   \n",
       "2  {'prereqs': None, 'coreqs': None, 'restriction...   \n",
       "\n",
       "                                            sections  semester  popularity  \\\n",
       "0  [HIST110-0101, HIST110-0102, HIST110-0103, HIS...    201901           4   \n",
       "1  [HIST111-0101, HIST111-0102, HIST111-0103, HIS...    201901           4   \n",
       "2  [HIST142-0101, HIST142-0102, HIST142-0103, HIS...    201901           4   \n",
       "\n",
       "   popularity_avg  \n",
       "0        2.545455  \n",
       "1        2.545455  \n",
       "2        2.545455  "
      ]
     },
     "execution_count": 4,
     "metadata": {},
     "output_type": "execute_result"
    }
   ],
   "source": [
    "# UMD.io Data Getting user input for course: \n",
    "display(widgets.Output(layout={'border': '2px solid black'}))\n",
    "display(widgets.HTML(value=\"<h2>Enter 4 Digit course code/major code for popularity recommendation results:</h2>\"))\n",
    "display(widgets.Output(layout={'border': '2px solid black'}))\n",
    "\n",
    "df = pd.read_json(getCourseURL(), orient='columns')\n",
    "#df[['course_id', 'description', 'name']].head(3)  len(df['sections'][1])\n",
    "df['popularity'] = [len(c) for c in df['sections']] #this assigns a score based on the amount of sections, assumming past popularity merits more sections?!\n",
    "df['popularity_avg'] = df['popularity']/df['popularity'].mean()\n",
    "#a = df['grading_method'][1]\n",
    "#print(len(a))\n",
    "df.head(3)\n"
   ]
  },
  {
   "cell_type": "code",
   "execution_count": 5,
   "metadata": {},
   "outputs": [
    {
     "name": "stdout",
     "output_type": "stream",
     "text": [
      "weighted rating of popularity (sectionCount): 1.5714285714285714\n",
      "minimum number of rank required to be in the chart: 4.0\n"
     ]
    },
    {
     "data": {
      "text/html": [
       "<div>\n",
       "<style scoped>\n",
       "    .dataframe tbody tr th:only-of-type {\n",
       "        vertical-align: middle;\n",
       "    }\n",
       "\n",
       "    .dataframe tbody tr th {\n",
       "        vertical-align: top;\n",
       "    }\n",
       "\n",
       "    .dataframe thead th {\n",
       "        text-align: right;\n",
       "    }\n",
       "</style>\n",
       "<table border=\"1\" class=\"dataframe\">\n",
       "  <thead>\n",
       "    <tr style=\"text-align: right;\">\n",
       "      <th></th>\n",
       "      <th>course_id</th>\n",
       "      <th>description</th>\n",
       "      <th>name</th>\n",
       "      <th>popularity</th>\n",
       "      <th>popularity_avg</th>\n",
       "    </tr>\n",
       "  </thead>\n",
       "  <tbody>\n",
       "    <tr>\n",
       "      <th>5</th>\n",
       "      <td>HIST201</td>\n",
       "      <td>The United States from the end of the Civil Wa...</td>\n",
       "      <td>Interpreting American History: From 1865 to th...</td>\n",
       "      <td>20</td>\n",
       "      <td>12.727273</td>\n",
       "    </tr>\n",
       "    <tr>\n",
       "      <th>26</th>\n",
       "      <td>HIST289R</td>\n",
       "      <td>None</td>\n",
       "      <td>Pocketbook Politics: A History of American Buy...</td>\n",
       "      <td>12</td>\n",
       "      <td>7.636364</td>\n",
       "    </tr>\n",
       "    <tr>\n",
       "      <th>29</th>\n",
       "      <td>HIST289Y</td>\n",
       "      <td>None</td>\n",
       "      <td>Zombies, Fear, and Contagion: A Cultural Histo...</td>\n",
       "      <td>12</td>\n",
       "      <td>7.636364</td>\n",
       "    </tr>\n",
       "    <tr>\n",
       "      <th>27</th>\n",
       "      <td>HIST289V</td>\n",
       "      <td>This course seeks to understand the on-going c...</td>\n",
       "      <td>What Does It Mean to be An American?</td>\n",
       "      <td>8</td>\n",
       "      <td>5.090909</td>\n",
       "    </tr>\n",
       "    <tr>\n",
       "      <th>0</th>\n",
       "      <td>HIST110</td>\n",
       "      <td>Interpretation of select literature and art of...</td>\n",
       "      <td>The Ancient World</td>\n",
       "      <td>4</td>\n",
       "      <td>2.545455</td>\n",
       "    </tr>\n",
       "    <tr>\n",
       "      <th>1</th>\n",
       "      <td>HIST111</td>\n",
       "      <td>The development of Europe in the Middle Ages; ...</td>\n",
       "      <td>The Medieval World</td>\n",
       "      <td>4</td>\n",
       "      <td>2.545455</td>\n",
       "    </tr>\n",
       "    <tr>\n",
       "      <th>2</th>\n",
       "      <td>HIST142</td>\n",
       "      <td>Looking at America will focus on a thematic ap...</td>\n",
       "      <td>Looking at America through a Global Lens</td>\n",
       "      <td>4</td>\n",
       "      <td>2.545455</td>\n",
       "    </tr>\n",
       "    <tr>\n",
       "      <th>3</th>\n",
       "      <td>HIST189B</td>\n",
       "      <td>Examines the changing nature of concern over s...</td>\n",
       "      <td>Topics in History; Sustainability and History:...</td>\n",
       "      <td>4</td>\n",
       "      <td>2.545455</td>\n",
       "    </tr>\n",
       "    <tr>\n",
       "      <th>4</th>\n",
       "      <td>HIST200</td>\n",
       "      <td>The United States from colonial times to the e...</td>\n",
       "      <td>Interpreting American History: Beginnings to 1877</td>\n",
       "      <td>4</td>\n",
       "      <td>2.545455</td>\n",
       "    </tr>\n",
       "    <tr>\n",
       "      <th>10</th>\n",
       "      <td>HIST211</td>\n",
       "      <td>An examination of women's changing roles in wo...</td>\n",
       "      <td>Love, Labor, and Citizenship: History of Ameri...</td>\n",
       "      <td>4</td>\n",
       "      <td>2.545455</td>\n",
       "    </tr>\n",
       "    <tr>\n",
       "      <th>22</th>\n",
       "      <td>HIST284</td>\n",
       "      <td>An interdisciplinary survey of the development...</td>\n",
       "      <td>East Asian Civilization I</td>\n",
       "      <td>4</td>\n",
       "      <td>2.545455</td>\n",
       "    </tr>\n",
       "    <tr>\n",
       "      <th>25</th>\n",
       "      <td>HIST289A</td>\n",
       "      <td>For 800 years, medieval Spain was home to one ...</td>\n",
       "      <td>Jews, Christians, and Muslims in Medieval Spai...</td>\n",
       "      <td>4</td>\n",
       "      <td>2.545455</td>\n",
       "    </tr>\n",
       "    <tr>\n",
       "      <th>28</th>\n",
       "      <td>HIST289X</td>\n",
       "      <td>None</td>\n",
       "      <td>History and the Politics of American Memory</td>\n",
       "      <td>4</td>\n",
       "      <td>2.545455</td>\n",
       "    </tr>\n",
       "  </tbody>\n",
       "</table>\n",
       "</div>"
      ],
      "text/plain": [
       "   course_id                                        description  \\\n",
       "5    HIST201  The United States from the end of the Civil Wa...   \n",
       "26  HIST289R                                               None   \n",
       "29  HIST289Y                                               None   \n",
       "27  HIST289V  This course seeks to understand the on-going c...   \n",
       "0    HIST110  Interpretation of select literature and art of...   \n",
       "1    HIST111  The development of Europe in the Middle Ages; ...   \n",
       "2    HIST142  Looking at America will focus on a thematic ap...   \n",
       "3   HIST189B  Examines the changing nature of concern over s...   \n",
       "4    HIST200  The United States from colonial times to the e...   \n",
       "10   HIST211  An examination of women's changing roles in wo...   \n",
       "22   HIST284  An interdisciplinary survey of the development...   \n",
       "25  HIST289A  For 800 years, medieval Spain was home to one ...   \n",
       "28  HIST289X                                               None   \n",
       "\n",
       "                                                 name  popularity  \\\n",
       "5   Interpreting American History: From 1865 to th...          20   \n",
       "26  Pocketbook Politics: A History of American Buy...          12   \n",
       "29  Zombies, Fear, and Contagion: A Cultural Histo...          12   \n",
       "27               What Does It Mean to be An American?           8   \n",
       "0                                   The Ancient World           4   \n",
       "1                                  The Medieval World           4   \n",
       "2            Looking at America through a Global Lens           4   \n",
       "3   Topics in History; Sustainability and History:...           4   \n",
       "4   Interpreting American History: Beginnings to 1877           4   \n",
       "10  Love, Labor, and Citizenship: History of Ameri...           4   \n",
       "22                          East Asian Civilization I           4   \n",
       "25  Jews, Christians, and Muslims in Medieval Spai...           4   \n",
       "28        History and the Politics of American Memory           4   \n",
       "\n",
       "    popularity_avg  \n",
       "5        12.727273  \n",
       "26        7.636364  \n",
       "29        7.636364  \n",
       "27        5.090909  \n",
       "0         2.545455  \n",
       "1         2.545455  \n",
       "2         2.545455  \n",
       "3         2.545455  \n",
       "4         2.545455  \n",
       "10        2.545455  \n",
       "22        2.545455  \n",
       "25        2.545455  \n",
       "28        2.545455  "
      ]
     },
     "execution_count": 5,
     "metadata": {},
     "output_type": "execute_result"
    }
   ],
   "source": [
    "#Getting final version of what data i need and calulating the mean.  \n",
    "#df[['course_id', 'description', 'name', 'rank']].head(15).to_csv('test.csv', sep='\\t', encoding='utf-8')\n",
    "df[['course_id', 'description', 'name', 'popularity', 'popularity_avg']].head(15)\n",
    "#weighted rating of courses\n",
    "C = df['popularity'].mean()\n",
    "print(\"weighted rating of popularity (sectionCount): \" + str(C)) # section count is popularity\n",
    "# Calculate the minimum number of votes required to be in the chart, m\n",
    "m = df['popularity'].quantile(0.92)\n",
    "print(\"minimum number of rank required to be in the chart: \" + str(m))\n",
    "# Filter out all qualified classes into a new DataFrame\n",
    "q_classes = df.copy().loc[df['popularity'] >= m]\n",
    "q_classes.shape\n",
    "#mimicing their catagorical classifier\n",
    "def weighted_rating(x, m=m, C=C):\n",
    "    v = x['popularity']\n",
    "    R = x['popularity_avg']\n",
    "    # Calculation based on the IMDB formula \n",
    "    return (v/(v+m) * R) + (m/(m+v) * C) # thing to modify for courses?\n",
    "#adding new column with score\n",
    "q_classes['score'] = q_classes.apply(weighted_rating, axis=1)\n",
    "#sorting movvies based on ^ and printing\n",
    "q_classes = q_classes.sort_values('score', ascending=False)\n",
    "q_classes[['course_id', 'description', 'name', 'popularity', 'popularity_avg']].head(15)\n"
   ]
  },
  {
   "cell_type": "code",
   "execution_count": 8,
   "metadata": {},
   "outputs": [
    {
     "data": {
      "application/vnd.jupyter.widget-view+json": {
       "model_id": "0782e06a46ec494abd34a224ddd243fa",
       "version_major": 2,
       "version_minor": 0
      },
      "text/plain": [
       "Output(layout=Layout(border='2px solid black'))"
      ]
     },
     "metadata": {},
     "output_type": "display_data"
    },
    {
     "data": {
      "application/vnd.jupyter.widget-view+json": {
       "model_id": "24c766df366b4e60a549c9e7499a0e90",
       "version_major": 2,
       "version_minor": 0
      },
      "text/plain": [
       "HTML(value='<h2>Content based Recommendations from Courses Descriptions:</h2>')"
      ]
     },
     "metadata": {},
     "output_type": "display_data"
    },
    {
     "data": {
      "application/vnd.jupyter.widget-view+json": {
       "model_id": "b85b93f934f3467f90645f1d2c387369",
       "version_major": 2,
       "version_minor": 0
      },
      "text/plain": [
       "Output(layout=Layout(border='2px solid black'))"
      ]
     },
     "metadata": {},
     "output_type": "display_data"
    },
    {
     "name": "stdout",
     "output_type": "stream",
     "text": [
      "Enter the course code: gvpt\n",
      "retrieving https://api.umd.io/v0/courses/list\n",
      "https://api.umd.io/v0/courses/GVPT170,GVPT200,GVPT201,GVPT202,GVPT203,GVPT221,GVPT241,GVPT273,GVPT282,GVPT301,GVPT306,GVPT317,GVPT319C,GVPT319D,GVPT319E,GVPT319G,GVPT331,GVPT355,GVPT356,GVPT359F,GVPT388,GVPT388L,GVPT388M,GVPT388W,GVPT390,GVPT396,GVPT397,GVPT409A,GVPT409G,GVPT409H,GVPT409O,GVPT409W,GVPT420,GVPT423H,GVPT429E,GVPT432,GVPT439A,GVPT439D,GVPT439F,GVPT445,GVPT449G,GVPT449I,GVPT456,GVPT459E,GVPT459H,GVPT459M,GVPT459N,GVPT459P,GVPT459R,GVPT459V,GVPT461,GVPT474,GVPT475,GVPT477,GVPT722,GVPT743,GVPT771,GVPT799,GVPT803,GVPT808B,GVPT808C,GVPT828B,GVPT831,GVPT834,GVPT888P,GVPT898,GVPT899\n"
     ]
    }
   ],
   "source": [
    "#Content based Recommendations from Courses: \n",
    "from sklearn.feature_extraction.text import TfidfVectorizer\n",
    "from sklearn.feature_extraction.text import CountVectorizer\n",
    "display(widgets.Output(layout={'border': '2px solid black'}))\n",
    "display(widgets.HTML(value=\"<h2>Content based Recommendations from Courses Descriptions:</h2>\"))\n",
    "display(widgets.Output(layout={'border': '2px solid black'}))\n",
    "\n",
    "majorCode = widgets.HTML(\n",
    "    value=\"<h3>Enter 4 Digit course code/Major code</h3>\")\n",
    "#buttonMajor = widgets.Button(description=\"Get Major\")\n",
    "#majorText = widgets.Text()\n",
    "#display(majorCode)\n",
    "#display(majorText)\n",
    "#display(buttonMajor)\n",
    "\n",
    "\n",
    "def buttonMajor_clicked(b):\n",
    "    m = majorText.value\n",
    "    majortextFormatted = m.upper().strip()\n",
    "    display('Current Major: ' + majortextFormatted)\n",
    "    df = pd.read_json(getCourseURL_ipywidget(majortextFormatted), orient='columns')\n",
    "    \n",
    "#buttonMajor.on_click(buttonMajor_clicked)\n",
    "\n",
    "#Content based Recommendations from Courses: \n",
    "df = pd.read_json(getCourseURL(), orient='columns')\n",
    "df['description'].head()\n",
    "\n",
    "#tfidf = TfidfVectorizer(stop_words) #stop words like in R!\n",
    "tfidf = TfidfVectorizer(stop_words='english',max_features=650) #stop words like in R!\n",
    "df['description'] = df['description'].fillna('') \n",
    "\n",
    "#Construct the required TF-IDF matrix by fitting and transforming the data\n",
    "tfidf_matrix = tfidf.fit_transform(df['description'])\n",
    "#Output the shape of tfidf_matrix\n",
    "tfidf_matrix.shape\n",
    "\n",
    "from sklearn.metrics.pairwise import linear_kernel\n",
    "# Compute the cosine similarity matrix\n",
    "cosine_sim = linear_kernel(tfidf_matrix, tfidf_matrix)\n",
    "\n",
    "indices = pd.Series(df.index, index=df['course_id']).drop_duplicates()\n",
    "def get_recommendations(courseName, cosine_sim=cosine_sim):\n",
    "    # Get the index of the movie that matches the title\n",
    "    idx = indices[courseName]\n",
    "\n",
    "    # Get the pairwsie similarity scores of all\n",
    "    sim_scores = list(enumerate(cosine_sim[idx]))\n",
    "\n",
    "    # Sort the courses based on the similarity scores\n",
    "    sim_scores = sorted(sim_scores, key=lambda x: x[1], reverse=True)\n",
    "\n",
    "    # Get the scores of the 5 most similar classes\n",
    "    sim_scores = sim_scores[1:6]\n",
    "\n",
    "    # Get the classes indices\n",
    "    courses_indices = [i[0] for i in sim_scores]\n",
    "\n",
    "    # Return the top 6 most similar classes\n",
    "    return df[['course_id', 'description']].iloc[courses_indices]\n"
   ]
  },
  {
   "cell_type": "code",
   "execution_count": 9,
   "metadata": {},
   "outputs": [],
   "source": [
    "from sklearn.metrics.pairwise import linear_kernel\n",
    "# Compute the cosine similarity matrix\n",
    "cosine_sim = linear_kernel(tfidf_matrix, tfidf_matrix)\n",
    "\n",
    "indices = pd.Series(df.index, index=df['course_id']).drop_duplicates()\n",
    "def get_recommendations(courseName, cosine_sim=cosine_sim):\n",
    "    # Get the index of the movie that matches the title\n",
    "    idx = indices[courseName]\n",
    "\n",
    "    # Get the pairwsie similarity scores of all\n",
    "    sim_scores = list(enumerate(cosine_sim[idx]))\n",
    "\n",
    "    # Sort the courses based on the similarity scores\n",
    "    sim_scores = sorted(sim_scores, key=lambda x: x[1], reverse=True)\n",
    "\n",
    "    # Get the scores of the 5 most similar classes\n",
    "    sim_scores = sim_scores[1:6]\n",
    "\n",
    "    # Get the classes indices\n",
    "    courses_indices = [i[0] for i in sim_scores]\n",
    "\n",
    "    # Return the top 6 most similar classes\n",
    "    return df[['course_id', 'description']].iloc[courses_indices]\n",
    "\n",
    "\n",
    "#courseName = input(str('Enter course code and course level nummber: ')).upper().strip()\n",
    "pd.set_option('display.max_colwidth', -1)\n",
    "#get_recommendations(courseName)"
   ]
  },
  {
   "cell_type": "code",
   "execution_count": 26,
   "metadata": {
    "scrolled": true
   },
   "outputs": [
    {
     "data": {
      "application/vnd.jupyter.widget-view+json": {
       "model_id": "259cfe7233894813824006eb8b9dc020",
       "version_major": 2,
       "version_minor": 0
      },
      "text/plain": [
       "Output(layout=Layout(border='2px solid black'))"
      ]
     },
     "metadata": {},
     "output_type": "display_data"
    },
    {
     "data": {
      "application/vnd.jupyter.widget-view+json": {
       "model_id": "843cd6d9ab094c829e28117673b24897",
       "version_major": 2,
       "version_minor": 0
      },
      "text/plain": [
       "HTML(value='<h3>Enter course number for GVPT classes:</h3>')"
      ]
     },
     "metadata": {},
     "output_type": "display_data"
    },
    {
     "data": {
      "application/vnd.jupyter.widget-view+json": {
       "model_id": "8b1d8154bf2e4147b3fbc2d2319473b0",
       "version_major": 2,
       "version_minor": 0
      },
      "text/plain": [
       "Text(value='')"
      ]
     },
     "metadata": {},
     "output_type": "display_data"
    },
    {
     "data": {
      "application/vnd.jupyter.widget-view+json": {
       "model_id": "780804c8cf9749debe92104c4ed79b4d",
       "version_major": 2,
       "version_minor": 0
      },
      "text/plain": [
       "Button(description='Recommend', style=ButtonStyle())"
      ]
     },
     "metadata": {},
     "output_type": "display_data"
    },
    {
     "data": {
      "application/vnd.jupyter.widget-view+json": {
       "model_id": "6190e483e2b148069794a8ba1592ad9a",
       "version_major": 2,
       "version_minor": 0
      },
      "text/plain": [
       "Button(description='Clear', style=ButtonStyle())"
      ]
     },
     "metadata": {},
     "output_type": "display_data"
    },
    {
     "data": {
      "application/vnd.jupyter.widget-view+json": {
       "model_id": "4e560e21328141eeaa864a19d456eaf1",
       "version_major": 2,
       "version_minor": 0
      },
      "text/plain": [
       "Output()"
      ]
     },
     "metadata": {},
     "output_type": "display_data"
    },
    {
     "data": {
      "application/vnd.jupyter.widget-view+json": {
       "model_id": "b1be08bb842d477392a873ded0e535ea",
       "version_major": 2,
       "version_minor": 0
      },
      "text/plain": [
       "Output(layout=Layout(border='2px solid black'))"
      ]
     },
     "metadata": {},
     "output_type": "display_data"
    }
   ],
   "source": [
    "display(widgets.Output(layout={'border': '2px solid black'}))\n",
    "buttonCourse = widgets.Button(description=\"Recommend\")\n",
    "clear = widgets.Button(description=\"Clear\")\n",
    "text = widgets.Text()\n",
    "out = widgets.Output()\n",
    "markup = widgets.HTML(\n",
    "    value=\"<h3>Enter course number for \"+df['course_id'][1][:-3]+\" classes:</h3>\")\n",
    "\n",
    "display(markup)\n",
    "display(text)\n",
    "display(buttonCourse, clear)\n",
    "\n",
    "display(out)\n",
    "\n",
    "\n",
    "def on_button_clicked(b):\n",
    "    with out:\n",
    "        try:\n",
    "            textOG = text.value\n",
    "            textCapped = textOG.upper().strip()\n",
    "            display(widgets.Output(layout={'border': '2px solid black'}))\n",
    "            print(\"Course: \" + textCapped)\n",
    "            display(get_recommendations(textCapped))\n",
    "            display(widgets.Output(layout={'border': '2px solid black'}))\n",
    "        except:\n",
    "            print('Make sure the course code is valid \\nTt must match the major code above of: '+df['course_id'][1][:-3])\n",
    "            print('Refresh to enter a new code. Annoying, I know..')\n",
    "        \n",
    "display(widgets.Output(layout={'border': '2px solid black'}))\n",
    "\n",
    "    \n",
    "def clearalloutput(b):\n",
    "    out.clear_output()\n",
    "    \n",
    "    \n",
    "buttonCourse.on_click(on_button_clicked)\n",
    "clear.on_click(clearalloutput)\n"
   ]
  },
  {
   "cell_type": "code",
   "execution_count": null,
   "metadata": {},
   "outputs": [],
   "source": []
  }
 ],
 "metadata": {
  "kernelspec": {
   "display_name": "Python 3",
   "language": "python",
   "name": "python3"
  },
  "language_info": {
   "codemirror_mode": {
    "name": "ipython",
    "version": 3
   },
   "file_extension": ".py",
   "mimetype": "text/x-python",
   "name": "python",
   "nbconvert_exporter": "python",
   "pygments_lexer": "ipython3",
   "version": "3.7.0"
  }
 },
 "nbformat": 4,
 "nbformat_minor": 2
}
